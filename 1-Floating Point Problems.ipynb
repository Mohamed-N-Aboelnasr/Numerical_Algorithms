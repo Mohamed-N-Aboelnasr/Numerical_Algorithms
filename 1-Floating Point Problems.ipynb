{
 "cells": [
  {
   "cell_type": "markdown",
   "id": "b568c27e",
   "metadata": {},
   "source": [
    "<center>\n",
    "    <h1>Mohamed Nasser Aboelnasr</h1>\n",
    "</center>"
   ]
  },
  {
   "cell_type": "markdown",
   "id": "673cf78b",
   "metadata": {},
   "source": [
    "## Converting a real value to it's ﬂoating point representation"
   ]
  },
  {
   "cell_type": "code",
   "execution_count": 1,
   "id": "bf5f9905",
   "metadata": {},
   "outputs": [],
   "source": [
    "# this representation is in single format\n",
    "def convert_to_floating_point(num):\n",
    "    \n",
    "    # converting to binary\n",
    "    def convert_binary(num):\n",
    "        lst = str(num).split(\".\")\n",
    "        l = int(bin(int(lst[0])).lstrip(\"0b\"))\n",
    "        f = float(str(\"0.\") + lst[1])\n",
    "        x = \"\"\n",
    "        while (f < 1 and f != 0):\n",
    "            s = f * 2\n",
    "            if (s < 1): \n",
    "                f = s\n",
    "                x += '0'\n",
    "            else :\n",
    "                f = s - 1\n",
    "                x += '1'\n",
    "        return float(f\"{l}.{x}\")\n",
    "    \n",
    "    # normailzing number\n",
    "    def normailze_num(num):\n",
    "        x = 0\n",
    "        while (len(str(num).split(\".\")[0]) != 1):\n",
    "            num /= 10.0\n",
    "            x += 1\n",
    "            if (len(str(num).split(\".\")[0]) == 1):\n",
    "                return num, x\n",
    "            \n",
    "    # implementing functions\n",
    "    sign = 0 if num > 0 else 1\n",
    "    bin_num = convert_binary(num)\n",
    "    norm_num, pow = normailze_num(bin_num)\n",
    "    expon = int(bin(pow + 127).lstrip(\"0b\"))\n",
    "    power_ex = 8 - len(str(expon))\n",
    "    exponent = str(expon) + str('0' * power_ex)\n",
    "    mant = int(str(norm_num).split(\".\")[1])\n",
    "    power_mant = 23 - len(str(mant))\n",
    "    mantissa = str(mant) + str('0' * power_mant)\n",
    "    return str(sign) + str(exponent) + str(mantissa)\n"
   ]
  },
  {
   "cell_type": "code",
   "execution_count": 2,
   "id": "10d547d4",
   "metadata": {},
   "outputs": [
    {
     "name": "stdout",
     "output_type": "stream",
     "text": [
      "01000010111110110011111100000000\n"
     ]
    }
   ],
   "source": [
    "print(convert_to_floating_point(125.624))"
   ]
  },
  {
   "cell_type": "markdown",
   "id": "a61ae4f9",
   "metadata": {},
   "source": [
    "## Converting ﬂoating point representation into real value"
   ]
  },
  {
   "cell_type": "code",
   "execution_count": 3,
   "id": "0a8f44c9",
   "metadata": {},
   "outputs": [],
   "source": [
    "# this representation is in single format\n",
    "def convert_to_real_value(num):\n",
    "    # sign\n",
    "    s = int(str(num)[0])\n",
    "    # convert to decimal\n",
    "    e = int(str(num)[1:9], 2)\n",
    "    # get mantissa\n",
    "    m = str(num)[9:]\n",
    "    mant = 0\n",
    "    for ind, itm in enumerate(m):\n",
    "        mant += int(itm) * 2**(-(ind+1))\n",
    "    return (-1)**s * 2**(e-127) * (1+mant)"
   ]
  },
  {
   "cell_type": "code",
   "execution_count": 4,
   "id": "12df6e30",
   "metadata": {},
   "outputs": [
    {
     "name": "stdout",
     "output_type": "stream",
     "text": [
      "125.623046875\n"
     ]
    }
   ],
   "source": [
    "print(convert_to_real_value('01000010111110110011111100000000'))"
   ]
  },
  {
   "cell_type": "markdown",
   "id": "be7d3779",
   "metadata": {},
   "source": [
    "## Implementation of Kahan Summation algorithm"
   ]
  },
  {
   "cell_type": "code",
   "execution_count": 5,
   "id": "1f602437",
   "metadata": {},
   "outputs": [],
   "source": [
    "def kahanSum(num):\n",
    "    sum=0.0\n",
    "    error=0.0\n",
    "    for _ in range(10):\n",
    "        diff=num-error\n",
    "        temp=sum+diff\n",
    "        error=temp-sum-diff\n",
    "        sum=temp\n",
    "    return sum"
   ]
  },
  {
   "cell_type": "code",
   "execution_count": 6,
   "id": "259ee458",
   "metadata": {},
   "outputs": [
    {
     "name": "stdout",
     "output_type": "stream",
     "text": [
      "0.9999999999999999\n"
     ]
    }
   ],
   "source": [
    "# without kahanSum\n",
    "num = 0.1\n",
    "sum = 0.0\n",
    "for _ in range(10):\n",
    "    sum += num\n",
    "    \n",
    "print(sum)"
   ]
  },
  {
   "cell_type": "code",
   "execution_count": 7,
   "id": "cc9df98e",
   "metadata": {},
   "outputs": [
    {
     "data": {
      "text/plain": [
       "1.0"
      ]
     },
     "execution_count": 7,
     "metadata": {},
     "output_type": "execute_result"
    }
   ],
   "source": [
    "kahanSum(0.1)"
   ]
  },
  {
   "cell_type": "markdown",
   "id": "fafb0271",
   "metadata": {},
   "source": [
    "## Implementation of Pichat's Algorithm"
   ]
  },
  {
   "cell_type": "code",
   "execution_count": 9,
   "id": "25c2c4b5",
   "metadata": {},
   "outputs": [
    {
     "name": "stdout",
     "output_type": "stream",
     "text": [
      "0.9999999999999999\n"
     ]
    }
   ],
   "source": [
    "# This is my try for implementing pichat's algorithm but still not working\n",
    "a = 0.1\n",
    "prev_summ = 0.0\n",
    "summ = a\n",
    "e = []\n",
    "for i in range(9):\n",
    "    prev_summ = summ\n",
    "    summ = prev_summ + a\n",
    "    if prev_summ <= a:\n",
    "        e.append((summ - prev_summ) - a)\n",
    "    else:\n",
    "        e.append((summ - a) - prev_summ)\n",
    "        \n",
    "print(sum(e) + summ)"
   ]
  }
 ],
 "metadata": {
  "kernelspec": {
   "display_name": "Python 3",
   "language": "python",
   "name": "python3"
  },
  "language_info": {
   "codemirror_mode": {
    "name": "ipython",
    "version": 3
   },
   "file_extension": ".py",
   "mimetype": "text/x-python",
   "name": "python",
   "nbconvert_exporter": "python",
   "pygments_lexer": "ipython3",
   "version": "3.8.8"
  }
 },
 "nbformat": 4,
 "nbformat_minor": 5
}
