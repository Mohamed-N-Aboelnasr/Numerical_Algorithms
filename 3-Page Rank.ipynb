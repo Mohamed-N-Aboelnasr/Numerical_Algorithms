{
 "cells": [
  {
   "cell_type": "markdown",
   "id": "d9cfbd15",
   "metadata": {},
   "source": [
    "<center>\n",
    "    <h1>Mohamed Nasser Aboelnasr</h1>\n",
    "</center>"
   ]
  },
  {
   "cell_type": "code",
   "execution_count": 1,
   "id": "d9f69182",
   "metadata": {},
   "outputs": [],
   "source": [
    "import numpy as np\n",
    "from IPython.display import SVG\n",
    "from sknetwork.data import karate_club, painters, movie_actor\n",
    "from sknetwork.ranking import PageRank, BiPageRank\n",
    "from sknetwork.visualization import svg_graph, svg_digraph, svg_bigraph\n",
    "from sknetwork.utils import projection_simplex , sparse"
   ]
  },
  {
   "cell_type": "code",
   "execution_count": 2,
   "id": "dc408b88",
   "metadata": {},
   "outputs": [],
   "source": [
    "# This function return markov matrix (transition propability matrix) \n",
    "def get_markov_mat(adjc) :  \n",
    "    x_csr=sparse.csr_matrix(adjc)\n",
    "    x_proj = projection_simplex(x_csr)\n",
    "    return x_proj.toarray()\n"
   ]
  },
  {
   "cell_type": "code",
   "execution_count": 3,
   "id": "f62712da",
   "metadata": {},
   "outputs": [],
   "source": [
    "# This function calculates rank (score) for every page\n",
    "def pagerank (M, iters = 100, d = 0.85) :\n",
    "    n=M.shape[1]\n",
    "    v = np.full((n,1),1/n)\n",
    "    M_hat = (1 - d) / n + d * M \n",
    "    for i in range (iters) :\n",
    "        v = np.dot(M_hat,v)\n",
    "    return v"
   ]
  },
  {
   "cell_type": "code",
   "execution_count": 4,
   "id": "923a3628",
   "metadata": {},
   "outputs": [],
   "source": [
    "graph = karate_club(metadata=True)\n",
    "adjacency = graph.adjacency # Here we get adjacency list\n",
    "position = graph.position"
   ]
  },
  {
   "cell_type": "code",
   "execution_count": 5,
   "id": "97e04ebc",
   "metadata": {},
   "outputs": [
    {
     "name": "stdout",
     "output_type": "stream",
     "text": [
      "[[0.09699729 0.05287692 0.05707851 0.03585986 0.02197795 0.02911115\n",
      "  0.02911115 0.0244905  0.02976606 0.0143094  0.02197795 0.00956475\n",
      "  0.01464489 0.02953646 0.01453599 0.01453599 0.01678401 0.01455868\n",
      "  0.01453599 0.01960464 0.01453599 0.01455868 0.01453599 0.03152251\n",
      "  0.02107603 0.0210062  0.01504404 0.02563977 0.01957346 0.02628854\n",
      "  0.02459016 0.03715809 0.07169323 0.10091918]]\n"
     ]
    }
   ],
   "source": [
    "L=adjacency\n",
    "# Here we are applying the Conv() function that converts the adjacency list into markov matrix\n",
    "markov_mat=get_markov_mat(L)\n",
    "pages_scores=pagerank(markov_mat.T,100, 0.85) # Here we get rank for every page\n",
    "print(pages_scores.T)"
   ]
  },
  {
   "cell_type": "markdown",
   "id": "6dbd963c",
   "metadata": {},
   "source": [
    "# Now let's compare our calculations with what we get from built-in funcions"
   ]
  },
  {
   "cell_type": "code",
   "execution_count": 6,
   "id": "bcc7c4bd",
   "metadata": {},
   "outputs": [
    {
     "name": "stdout",
     "output_type": "stream",
     "text": [
      "[0.09683432 0.05270896 0.05700985 0.03583685 0.02204314 0.02922028\n",
      " 0.02922028 0.02453786 0.02983147 0.01434684 0.02204314 0.00959139\n",
      " 0.01467138 0.0296205  0.01460911 0.01460911 0.01682548 0.01460544\n",
      " 0.01460911 0.01968808 0.01460911 0.01460544 0.01460911 0.03156737\n",
      " 0.02103777 0.02096294 0.01505913 0.02566555 0.01957931 0.02631547\n",
      " 0.02465682 0.0372688  0.07127235 0.10032824]\n"
     ]
    }
   ],
   "source": [
    "# Here we create object from PageRank built-in class\n",
    "pageRank = PageRank()\n",
    "# Now we call fit_transform function to get the rank of pages from adjacency list\n",
    "scores = pageRank.fit_transform(adjacency)\n",
    "print(scores)"
   ]
  },
  {
   "cell_type": "code",
   "execution_count": 7,
   "id": "00dac819",
   "metadata": {},
   "outputs": [
    {
     "data": {
      "image/svg+xml": [
       "<svg xmlns=\"http://www.w3.org/2000/svg\" width=\"440\" height=\"340\">\n",
       "<path stroke-width=\"1\" stroke=\"black\" d=\"M 264 200 353 168\"/>\n",
       "<path stroke-width=\"1\" stroke=\"black\" d=\"M 20 116 153 125\"/>\n",
       "<path stroke-width=\"1\" stroke=\"black\" d=\"M 28 91 131 68\"/>\n",
       "<path stroke-width=\"1\" stroke=\"black\" d=\"M 28 91 20 116\"/>\n",
       "<path stroke-width=\"1\" stroke=\"black\" d=\"M 28 91 153 125\"/>\n",
       "<path stroke-width=\"1\" stroke=\"black\" d=\"M 162 20 171 45\"/>\n",
       "<path stroke-width=\"1\" stroke=\"black\" d=\"M 162 20 246 82\"/>\n",
       "<path stroke-width=\"1\" stroke=\"black\" d=\"M 122 103 251 143\"/>\n",
       "<path stroke-width=\"1\" stroke=\"black\" d=\"M 122 103 131 68\"/>\n",
       "<path stroke-width=\"1\" stroke=\"black\" d=\"M 122 103 20 116\"/>\n",
       "<path stroke-width=\"1\" stroke=\"black\" d=\"M 122 103 246 82\"/>\n",
       "<path stroke-width=\"1\" stroke=\"black\" d=\"M 197 120 251 143\"/>\n",
       "<path stroke-width=\"1\" stroke=\"black\" d=\"M 197 120 153 125\"/>\n",
       "<path stroke-width=\"1\" stroke=\"black\" d=\"M 197 120 246 82\"/>\n",
       "<path stroke-width=\"1\" stroke=\"black\" d=\"M 171 45 131 68\"/>\n",
       "<path stroke-width=\"1\" stroke=\"black\" d=\"M 171 45 162 20\"/>\n",
       "<path stroke-width=\"1\" stroke=\"black\" d=\"M 20 116 122 103\"/>\n",
       "<path stroke-width=\"1\" stroke=\"black\" d=\"M 20 116 28 91\"/>\n",
       "<path stroke-width=\"1\" stroke=\"black\" d=\"M 131 68 246 82\"/>\n",
       "<path stroke-width=\"1\" stroke=\"black\" d=\"M 131 68 260 73\"/>\n",
       "<path stroke-width=\"1\" stroke=\"black\" d=\"M 388 216 264 200\"/>\n",
       "<path stroke-width=\"1\" stroke=\"black\" d=\"M 388 216 353 168\"/>\n",
       "<path stroke-width=\"1\" stroke=\"black\" d=\"M 313 34 260 73\"/>\n",
       "<path stroke-width=\"1\" stroke=\"black\" d=\"M 313 34 246 82\"/>\n",
       "<path stroke-width=\"1\" stroke=\"black\" d=\"M 331 143 264 200\"/>\n",
       "<path stroke-width=\"1\" stroke=\"black\" d=\"M 331 143 353 168\"/>\n",
       "<path stroke-width=\"1\" stroke=\"black\" d=\"M 331 143 246 82\"/>\n",
       "<path stroke-width=\"1\" stroke=\"black\" d=\"M 171 45 260 73\"/>\n",
       "<path stroke-width=\"1\" stroke=\"black\" d=\"M 366 61 260 73\"/>\n",
       "<path stroke-width=\"1\" stroke=\"black\" d=\"M 420 202 264 200\"/>\n",
       "<path stroke-width=\"1\" stroke=\"black\" d=\"M 420 202 353 168\"/>\n",
       "<path stroke-width=\"1\" stroke=\"black\" d=\"M 228 32 260 73\"/>\n",
       "<path stroke-width=\"1\" stroke=\"black\" d=\"M 228 32 246 82\"/>\n",
       "<path stroke-width=\"1\" stroke=\"black\" d=\"M 131 68 28 91\"/>\n",
       "<path stroke-width=\"1\" stroke=\"black\" d=\"M 131 68 122 103\"/>\n",
       "<path stroke-width=\"1\" stroke=\"black\" d=\"M 131 68 171 45\"/>\n",
       "<path stroke-width=\"1\" stroke=\"black\" d=\"M 366 61 246 82\"/>\n",
       "<path stroke-width=\"1\" stroke=\"black\" d=\"M 220 320 264 277\"/>\n",
       "<path stroke-width=\"1\" stroke=\"black\" d=\"M 171 45 246 82\"/>\n",
       "<path stroke-width=\"1\" stroke=\"black\" d=\"M 344 107 282 125\"/>\n",
       "<path stroke-width=\"1\" stroke=\"black\" d=\"M 246 82 282 125\"/>\n",
       "<path stroke-width=\"1\" stroke=\"black\" d=\"M 246 82 197 100\"/>\n",
       "<path stroke-width=\"1\" stroke=\"black\" d=\"M 246 82 282 153\"/>\n",
       "<path stroke-width=\"1\" stroke=\"black\" d=\"M 246 82 348 43\"/>\n",
       "<path stroke-width=\"1\" stroke=\"black\" d=\"M 246 82 273 27\"/>\n",
       "<path stroke-width=\"1\" stroke=\"black\" d=\"M 246 82 313 34\"/>\n",
       "<path stroke-width=\"1\" stroke=\"black\" d=\"M 246 82 331 143\"/>\n",
       "<path stroke-width=\"1\" stroke=\"black\" d=\"M 246 82 366 61\"/>\n",
       "<path stroke-width=\"1\" stroke=\"black\" d=\"M 246 82 228 32\"/>\n",
       "<path stroke-width=\"1\" stroke=\"black\" d=\"M 246 82 131 68\"/>\n",
       "<path stroke-width=\"1\" stroke=\"black\" d=\"M 246 82 162 20\"/>\n",
       "<path stroke-width=\"1\" stroke=\"black\" d=\"M 246 82 122 103\"/>\n",
       "<path stroke-width=\"1\" stroke=\"black\" d=\"M 246 82 197 120\"/>\n",
       "<path stroke-width=\"1\" stroke=\"black\" d=\"M 246 82 171 45\"/>\n",
       "<path stroke-width=\"1\" stroke=\"black\" d=\"M 246 82 344 107\"/>\n",
       "<path stroke-width=\"1\" stroke=\"black\" d=\"M 260 73 246 82\"/>\n",
       "<path stroke-width=\"1\" stroke=\"black\" d=\"M 260 73 153 125\"/>\n",
       "<path stroke-width=\"1\" stroke=\"black\" d=\"M 260 73 344 107\"/>\n",
       "<path stroke-width=\"1\" stroke=\"black\" d=\"M 260 73 171 45\"/>\n",
       "<path stroke-width=\"1\" stroke=\"black\" d=\"M 344 107 260 73\"/>\n",
       "<path stroke-width=\"1\" stroke=\"black\" d=\"M 344 107 246 82\"/>\n",
       "<path stroke-width=\"1\" stroke=\"black\" d=\"M 153 125 264 200\"/>\n",
       "<path stroke-width=\"1\" stroke=\"black\" d=\"M 153 125 20 116\"/>\n",
       "<path stroke-width=\"1\" stroke=\"black\" d=\"M 153 125 28 91\"/>\n",
       "<path stroke-width=\"1\" stroke=\"black\" d=\"M 153 125 197 120\"/>\n",
       "<path stroke-width=\"1\" stroke=\"black\" d=\"M 153 125 260 73\"/>\n",
       "<path stroke-width=\"1\" stroke=\"black\" d=\"M 344 107 353 168\"/>\n",
       "<path stroke-width=\"1\" stroke=\"black\" d=\"M 153 125 246 82\"/>\n",
       "<path stroke-width=\"1\" stroke=\"black\" d=\"M 260 73 282 125\"/>\n",
       "<path stroke-width=\"1\" stroke=\"black\" d=\"M 260 73 348 43\"/>\n",
       "<path stroke-width=\"1\" stroke=\"black\" d=\"M 260 73 273 27\"/>\n",
       "<path stroke-width=\"1\" stroke=\"black\" d=\"M 260 73 313 34\"/>\n",
       "<path stroke-width=\"1\" stroke=\"black\" d=\"M 260 73 366 61\"/>\n",
       "<path stroke-width=\"1\" stroke=\"black\" d=\"M 260 73 228 32\"/>\n",
       "<path stroke-width=\"1\" stroke=\"black\" d=\"M 260 73 131 68\"/>\n",
       "<path stroke-width=\"1\" stroke=\"black\" d=\"M 260 73 251 143\"/>\n",
       "<path stroke-width=\"1\" stroke=\"black\" d=\"M 220 320 211 275\"/>\n",
       "<path stroke-width=\"1\" stroke=\"black\" d=\"M 273 27 246 82\"/>\n",
       "<path stroke-width=\"1\" stroke=\"black\" d=\"M 273 27 260 73\"/>\n",
       "<path stroke-width=\"1\" stroke=\"black\" d=\"M 353 168 388 216\"/>\n",
       "<path stroke-width=\"1\" stroke=\"black\" d=\"M 353 168 331 143\"/>\n",
       "<path stroke-width=\"1\" stroke=\"black\" d=\"M 353 168 420 202\"/>\n",
       "<path stroke-width=\"1\" stroke=\"black\" d=\"M 353 168 344 107\"/>\n",
       "<path stroke-width=\"1\" stroke=\"black\" d=\"M 251 143 264 200\"/>\n",
       "<path stroke-width=\"1\" stroke=\"black\" d=\"M 251 143 353 168\"/>\n",
       "<path stroke-width=\"1\" stroke=\"black\" d=\"M 251 143 304 191\"/>\n",
       "<path stroke-width=\"1\" stroke=\"black\" d=\"M 251 143 340 186\"/>\n",
       "<path stroke-width=\"1\" stroke=\"black\" d=\"M 251 143 282 125\"/>\n",
       "<path stroke-width=\"1\" stroke=\"black\" d=\"M 251 143 197 100\"/>\n",
       "<path stroke-width=\"1\" stroke=\"black\" d=\"M 251 143 282 153\"/>\n",
       "<path stroke-width=\"1\" stroke=\"black\" d=\"M 251 143 122 103\"/>\n",
       "<path stroke-width=\"1\" stroke=\"black\" d=\"M 251 143 197 120\"/>\n",
       "<path stroke-width=\"1\" stroke=\"black\" d=\"M 251 143 260 73\"/>\n",
       "<path stroke-width=\"1\" stroke=\"black\" d=\"M 304 191 264 200\"/>\n",
       "<path stroke-width=\"1\" stroke=\"black\" d=\"M 353 168 282 153\"/>\n",
       "<path stroke-width=\"1\" stroke=\"black\" d=\"M 353 168 340 186\"/>\n",
       "<path stroke-width=\"1\" stroke=\"black\" d=\"M 353 168 304 191\"/>\n",
       "<path stroke-width=\"1\" stroke=\"black\" d=\"M 353 168 251 143\"/>\n",
       "<path stroke-width=\"1\" stroke=\"black\" d=\"M 264 200 251 143\"/>\n",
       "<path stroke-width=\"1\" stroke=\"black\" d=\"M 264 200 304 191\"/>\n",
       "<path stroke-width=\"1\" stroke=\"black\" d=\"M 264 200 255 255\"/>\n",
       "<path stroke-width=\"1\" stroke=\"black\" d=\"M 264 200 211 275\"/>\n",
       "<path stroke-width=\"1\" stroke=\"black\" d=\"M 264 200 264 277\"/>\n",
       "<path stroke-width=\"1\" stroke=\"black\" d=\"M 264 200 340 186\"/>\n",
       "<path stroke-width=\"1\" stroke=\"black\" d=\"M 264 200 282 125\"/>\n",
       "<path stroke-width=\"1\" stroke=\"black\" d=\"M 304 191 353 168\"/>\n",
       "<path stroke-width=\"1\" stroke=\"black\" d=\"M 264 200 188 252\"/>\n",
       "<path stroke-width=\"1\" stroke=\"black\" d=\"M 264 200 335 236\"/>\n",
       "<path stroke-width=\"1\" stroke=\"black\" d=\"M 264 200 282 153\"/>\n",
       "<path stroke-width=\"1\" stroke=\"black\" d=\"M 264 200 388 216\"/>\n",
       "<path stroke-width=\"1\" stroke=\"black\" d=\"M 264 200 331 143\"/>\n",
       "<path stroke-width=\"1\" stroke=\"black\" d=\"M 264 200 420 202\"/>\n",
       "<path stroke-width=\"1\" stroke=\"black\" d=\"M 264 200 153 125\"/>\n",
       "<path stroke-width=\"1\" stroke=\"black\" d=\"M 353 168 264 200\"/>\n",
       "<path stroke-width=\"1\" stroke=\"black\" d=\"M 264 200 122 212\"/>\n",
       "<path stroke-width=\"1\" stroke=\"black\" d=\"M 304 191 251 143\"/>\n",
       "<path stroke-width=\"1\" stroke=\"black\" d=\"M 304 191 340 186\"/>\n",
       "<path stroke-width=\"1\" stroke=\"black\" d=\"M 304 191 335 236\"/>\n",
       "<path stroke-width=\"1\" stroke=\"black\" d=\"M 282 125 246 82\"/>\n",
       "<path stroke-width=\"1\" stroke=\"black\" d=\"M 197 100 251 143\"/>\n",
       "<path stroke-width=\"1\" stroke=\"black\" d=\"M 197 100 246 82\"/>\n",
       "<path stroke-width=\"1\" stroke=\"black\" d=\"M 188 252 264 200\"/>\n",
       "<path stroke-width=\"1\" stroke=\"black\" d=\"M 188 252 255 255\"/>\n",
       "<path stroke-width=\"1\" stroke=\"black\" d=\"M 188 252 211 275\"/>\n",
       "<path stroke-width=\"1\" stroke=\"black\" d=\"M 122 212 264 200\"/>\n",
       "<path stroke-width=\"1\" stroke=\"black\" d=\"M 282 125 260 73\"/>\n",
       "<path stroke-width=\"1\" stroke=\"black\" d=\"M 335 236 264 200\"/>\n",
       "<path stroke-width=\"1\" stroke=\"black\" d=\"M 282 153 264 200\"/>\n",
       "<path stroke-width=\"1\" stroke=\"black\" d=\"M 282 153 353 168\"/>\n",
       "<path stroke-width=\"1\" stroke=\"black\" d=\"M 282 153 251 143\"/>\n",
       "<path stroke-width=\"1\" stroke=\"black\" d=\"M 282 153 304 191\"/>\n",
       "<path stroke-width=\"1\" stroke=\"black\" d=\"M 282 153 246 82\"/>\n",
       "<path stroke-width=\"1\" stroke=\"black\" d=\"M 348 43 260 73\"/>\n",
       "<path stroke-width=\"1\" stroke=\"black\" d=\"M 348 43 246 82\"/>\n",
       "<path stroke-width=\"1\" stroke=\"black\" d=\"M 335 236 304 191\"/>\n",
       "<path stroke-width=\"1\" stroke=\"black\" d=\"M 246 82 153 125\"/>\n",
       "<path stroke-width=\"1\" stroke=\"black\" d=\"M 282 125 344 107\"/>\n",
       "<path stroke-width=\"1\" stroke=\"black\" d=\"M 282 125 264 200\"/>\n",
       "<path stroke-width=\"1\" stroke=\"black\" d=\"M 304 191 282 153\"/>\n",
       "<path stroke-width=\"1\" stroke=\"black\" d=\"M 255 255 264 200\"/>\n",
       "<path stroke-width=\"1\" stroke=\"black\" d=\"M 255 255 264 277\"/>\n",
       "<path stroke-width=\"1\" stroke=\"black\" d=\"M 255 255 188 252\"/>\n",
       "<path stroke-width=\"1\" stroke=\"black\" d=\"M 211 275 264 200\"/>\n",
       "<path stroke-width=\"1\" stroke=\"black\" d=\"M 211 275 264 277\"/>\n",
       "<path stroke-width=\"1\" stroke=\"black\" d=\"M 211 275 188 252\"/>\n",
       "<path stroke-width=\"1\" stroke=\"black\" d=\"M 282 125 251 143\"/>\n",
       "<path stroke-width=\"1\" stroke=\"black\" d=\"M 211 275 220 320\"/>\n",
       "<path stroke-width=\"1\" stroke=\"black\" d=\"M 264 277 255 255\"/>\n",
       "<path stroke-width=\"1\" stroke=\"black\" d=\"M 264 277 211 275\"/>\n",
       "<path stroke-width=\"1\" stroke=\"black\" d=\"M 264 277 220 320\"/>\n",
       "<path stroke-width=\"1\" stroke=\"black\" d=\"M 340 186 264 200\"/>\n",
       "<path stroke-width=\"1\" stroke=\"black\" d=\"M 340 186 353 168\"/>\n",
       "<path stroke-width=\"1\" stroke=\"black\" d=\"M 340 186 251 143\"/>\n",
       "<path stroke-width=\"1\" stroke=\"black\" d=\"M 340 186 304 191\"/>\n",
       "<path stroke-width=\"1\" stroke=\"black\" d=\"M 264 277 264 200\"/>\n",
       "<path stroke-width=\"1\" stroke=\"black\" d=\"M 246 82 260 73\"/>\n",
       "<circle cx=\"264\" cy=\"200\" r=\"7.0\" style=\"fill:rgb(187, 26, 43);stroke:black;stroke-width:1.0\"/>\n",
       "<circle cx=\"353\" cy=\"168\" r=\"7.0\" style=\"fill:rgb(246, 166, 135);stroke:black;stroke-width:1.0\"/>\n",
       "<circle cx=\"251\" cy=\"143\" r=\"7.0\" style=\"fill:rgb(243, 150, 120);stroke:black;stroke-width:1.0\"/>\n",
       "<circle cx=\"304\" cy=\"191\" r=\"7.0\" style=\"fill:rgb(234, 211, 199);stroke:black;stroke-width:1.0\"/>\n",
       "<circle cx=\"255\" cy=\"255\" r=\"7.0\" style=\"fill:rgb(176, 203, 251);stroke:black;stroke-width:1.0\"/>\n",
       "<circle cx=\"211\" cy=\"275\" r=\"7.0\" style=\"fill:rgb(210, 218, 231);stroke:black;stroke-width:1.0\"/>\n",
       "<circle cx=\"264\" cy=\"277\" r=\"7.0\" style=\"fill:rgb(210, 218, 231);stroke:black;stroke-width:1.0\"/>\n",
       "<circle cx=\"340\" cy=\"186\" r=\"7.0\" style=\"fill:rgb(189, 210, 246);stroke:black;stroke-width:1.0\"/>\n",
       "<circle cx=\"282\" cy=\"125\" r=\"7.0\" style=\"fill:rgb(214, 219, 228);stroke:black;stroke-width:1.0\"/>\n",
       "<circle cx=\"197\" cy=\"100\" r=\"7.0\" style=\"fill:rgb(109, 144, 241);stroke:black;stroke-width:1.0\"/>\n",
       "<circle cx=\"188\" cy=\"252\" r=\"7.0\" style=\"fill:rgb(176, 203, 251);stroke:black;stroke-width:1.0\"/>\n",
       "<circle cx=\"122\" cy=\"212\" r=\"7.0\" style=\"fill:rgb(58, 76, 192);stroke:black;stroke-width:1.0\"/>\n",
       "<circle cx=\"335\" cy=\"236\" r=\"7.0\" style=\"fill:rgb(112, 147, 243);stroke:black;stroke-width:1.0\"/>\n",
       "<circle cx=\"282\" cy=\"153\" r=\"7.0\" style=\"fill:rgb(214, 219, 228);stroke:black;stroke-width:1.0\"/>\n",
       "<circle cx=\"348\" cy=\"43\" r=\"7.0\" style=\"fill:rgb(112, 147, 243);stroke:black;stroke-width:1.0\"/>\n",
       "<circle cx=\"273\" cy=\"27\" r=\"7.0\" style=\"fill:rgb(112, 147, 243);stroke:black;stroke-width:1.0\"/>\n",
       "<circle cx=\"220\" cy=\"320\" r=\"7.0\" style=\"fill:rgb(134, 169, 252);stroke:black;stroke-width:1.0\"/>\n",
       "<circle cx=\"388\" cy=\"216\" r=\"7.0\" style=\"fill:rgb(112, 147, 243);stroke:black;stroke-width:1.0\"/>\n",
       "<circle cx=\"313\" cy=\"34\" r=\"7.0\" style=\"fill:rgb(112, 147, 243);stroke:black;stroke-width:1.0\"/>\n",
       "<circle cx=\"331\" cy=\"143\" r=\"7.0\" style=\"fill:rgb(159, 190, 254);stroke:black;stroke-width:1.0\"/>\n",
       "<circle cx=\"366\" cy=\"61\" r=\"7.0\" style=\"fill:rgb(112, 147, 243);stroke:black;stroke-width:1.0\"/>\n",
       "<circle cx=\"420\" cy=\"202\" r=\"7.0\" style=\"fill:rgb(112, 147, 243);stroke:black;stroke-width:1.0\"/>\n",
       "<circle cx=\"228\" cy=\"32\" r=\"7.0\" style=\"fill:rgb(112, 147, 243);stroke:black;stroke-width:1.0\"/>\n",
       "<circle cx=\"131\" cy=\"68\" r=\"7.0\" style=\"fill:rgb(222, 219, 218);stroke:black;stroke-width:1.0\"/>\n",
       "<circle cx=\"20\" cy=\"116\" r=\"7.0\" style=\"fill:rgb(170, 198, 253);stroke:black;stroke-width:1.0\"/>\n",
       "<circle cx=\"28\" cy=\"91\" r=\"7.0\" style=\"fill:rgb(166, 195, 253);stroke:black;stroke-width:1.0\"/>\n",
       "<circle cx=\"162\" cy=\"20\" r=\"7.0\" style=\"fill:rgb(120, 155, 247);stroke:black;stroke-width:1.0\"/>\n",
       "<circle cx=\"122\" cy=\"103\" r=\"7.0\" style=\"fill:rgb(197, 213, 242);stroke:black;stroke-width:1.0\"/>\n",
       "<circle cx=\"197\" cy=\"120\" r=\"7.0\" style=\"fill:rgb(159, 190, 254);stroke:black;stroke-width:1.0\"/>\n",
       "<circle cx=\"171\" cy=\"45\" r=\"7.0\" style=\"fill:rgb(199, 214, 240);stroke:black;stroke-width:1.0\"/>\n",
       "<circle cx=\"344\" cy=\"107\" r=\"7.0\" style=\"fill:rgb(189, 210, 246);stroke:black;stroke-width:1.0\"/>\n",
       "<circle cx=\"153\" cy=\"125\" r=\"7.0\" style=\"fill:rgb(237, 207, 192);stroke:black;stroke-width:1.0\"/>\n",
       "<circle cx=\"260\" cy=\"73\" r=\"7.0\" style=\"fill:rgb(227, 108, 84);stroke:black;stroke-width:1.0\"/>\n",
       "<circle cx=\"246\" cy=\"82\" r=\"7.0\" style=\"fill:rgb(179, 3, 38);stroke:black;stroke-width:1.0\"/>\n",
       "</svg>"
      ],
      "text/plain": [
       "<IPython.core.display.SVG object>"
      ]
     },
     "execution_count": 7,
     "metadata": {},
     "output_type": "execute_result"
    }
   ],
   "source": [
    "# Here we visually explore the shape of the graph\n",
    "image = svg_graph(adjacency, position, scores=np.log(scores))\n",
    "SVG(image)"
   ]
  },
  {
   "cell_type": "markdown",
   "id": "d1c3ef66",
   "metadata": {
    "id": "N39R_tdJ5jDC"
   },
   "source": [
    "# Ranking with personalization"
   ]
  },
  {
   "cell_type": "code",
   "execution_count": 8,
   "id": "962fca9f",
   "metadata": {
    "id": "8b01iBZn5jDE"
   },
   "outputs": [],
   "source": [
    "seeds = {1: 1, 10: 1}\n",
    "pageRank = PageRank()\n",
    "\n",
    "scores = pageRank.fit_transform(adjacency, seeds)\n",
    "\n",
    "image = svg_graph(adjacency, position, scores=np.log(scores), seeds=seeds)"
   ]
  },
  {
   "cell_type": "code",
   "execution_count": 9,
   "id": "6fc136a3",
   "metadata": {
    "colab": {
     "base_uri": "https://localhost:8080/",
     "height": 361
    },
    "id": "7on0nXag5jDF",
    "outputId": "eac9d07e-c44a-4d01-e4ef-ba010016c729"
   },
   "outputs": [
    {
     "data": {
      "image/svg+xml": [
       "<svg xmlns=\"http://www.w3.org/2000/svg\" width=\"440\" height=\"340\">\n",
       "<path stroke-width=\"1\" stroke=\"black\" d=\"M 264 200 353 168\"/>\n",
       "<path stroke-width=\"1\" stroke=\"black\" d=\"M 20 116 153 125\"/>\n",
       "<path stroke-width=\"1\" stroke=\"black\" d=\"M 28 91 131 68\"/>\n",
       "<path stroke-width=\"1\" stroke=\"black\" d=\"M 28 91 20 116\"/>\n",
       "<path stroke-width=\"1\" stroke=\"black\" d=\"M 28 91 153 125\"/>\n",
       "<path stroke-width=\"1\" stroke=\"black\" d=\"M 162 20 171 45\"/>\n",
       "<path stroke-width=\"1\" stroke=\"black\" d=\"M 162 20 246 82\"/>\n",
       "<path stroke-width=\"1\" stroke=\"black\" d=\"M 122 103 251 143\"/>\n",
       "<path stroke-width=\"1\" stroke=\"black\" d=\"M 122 103 131 68\"/>\n",
       "<path stroke-width=\"1\" stroke=\"black\" d=\"M 122 103 20 116\"/>\n",
       "<path stroke-width=\"1\" stroke=\"black\" d=\"M 122 103 246 82\"/>\n",
       "<path stroke-width=\"1\" stroke=\"black\" d=\"M 197 120 251 143\"/>\n",
       "<path stroke-width=\"1\" stroke=\"black\" d=\"M 197 120 153 125\"/>\n",
       "<path stroke-width=\"1\" stroke=\"black\" d=\"M 197 120 246 82\"/>\n",
       "<path stroke-width=\"1\" stroke=\"black\" d=\"M 171 45 131 68\"/>\n",
       "<path stroke-width=\"1\" stroke=\"black\" d=\"M 171 45 162 20\"/>\n",
       "<path stroke-width=\"1\" stroke=\"black\" d=\"M 20 116 122 103\"/>\n",
       "<path stroke-width=\"1\" stroke=\"black\" d=\"M 20 116 28 91\"/>\n",
       "<path stroke-width=\"1\" stroke=\"black\" d=\"M 131 68 246 82\"/>\n",
       "<path stroke-width=\"1\" stroke=\"black\" d=\"M 131 68 260 73\"/>\n",
       "<path stroke-width=\"1\" stroke=\"black\" d=\"M 388 216 264 200\"/>\n",
       "<path stroke-width=\"1\" stroke=\"black\" d=\"M 388 216 353 168\"/>\n",
       "<path stroke-width=\"1\" stroke=\"black\" d=\"M 313 34 260 73\"/>\n",
       "<path stroke-width=\"1\" stroke=\"black\" d=\"M 313 34 246 82\"/>\n",
       "<path stroke-width=\"1\" stroke=\"black\" d=\"M 331 143 264 200\"/>\n",
       "<path stroke-width=\"1\" stroke=\"black\" d=\"M 331 143 353 168\"/>\n",
       "<path stroke-width=\"1\" stroke=\"black\" d=\"M 331 143 246 82\"/>\n",
       "<path stroke-width=\"1\" stroke=\"black\" d=\"M 171 45 260 73\"/>\n",
       "<path stroke-width=\"1\" stroke=\"black\" d=\"M 366 61 260 73\"/>\n",
       "<path stroke-width=\"1\" stroke=\"black\" d=\"M 420 202 264 200\"/>\n",
       "<path stroke-width=\"1\" stroke=\"black\" d=\"M 420 202 353 168\"/>\n",
       "<path stroke-width=\"1\" stroke=\"black\" d=\"M 228 32 260 73\"/>\n",
       "<path stroke-width=\"1\" stroke=\"black\" d=\"M 228 32 246 82\"/>\n",
       "<path stroke-width=\"1\" stroke=\"black\" d=\"M 131 68 28 91\"/>\n",
       "<path stroke-width=\"1\" stroke=\"black\" d=\"M 131 68 122 103\"/>\n",
       "<path stroke-width=\"1\" stroke=\"black\" d=\"M 131 68 171 45\"/>\n",
       "<path stroke-width=\"1\" stroke=\"black\" d=\"M 366 61 246 82\"/>\n",
       "<path stroke-width=\"1\" stroke=\"black\" d=\"M 220 320 264 277\"/>\n",
       "<path stroke-width=\"1\" stroke=\"black\" d=\"M 171 45 246 82\"/>\n",
       "<path stroke-width=\"1\" stroke=\"black\" d=\"M 344 107 282 125\"/>\n",
       "<path stroke-width=\"1\" stroke=\"black\" d=\"M 246 82 282 125\"/>\n",
       "<path stroke-width=\"1\" stroke=\"black\" d=\"M 246 82 197 100\"/>\n",
       "<path stroke-width=\"1\" stroke=\"black\" d=\"M 246 82 282 153\"/>\n",
       "<path stroke-width=\"1\" stroke=\"black\" d=\"M 246 82 348 43\"/>\n",
       "<path stroke-width=\"1\" stroke=\"black\" d=\"M 246 82 273 27\"/>\n",
       "<path stroke-width=\"1\" stroke=\"black\" d=\"M 246 82 313 34\"/>\n",
       "<path stroke-width=\"1\" stroke=\"black\" d=\"M 246 82 331 143\"/>\n",
       "<path stroke-width=\"1\" stroke=\"black\" d=\"M 246 82 366 61\"/>\n",
       "<path stroke-width=\"1\" stroke=\"black\" d=\"M 246 82 228 32\"/>\n",
       "<path stroke-width=\"1\" stroke=\"black\" d=\"M 246 82 131 68\"/>\n",
       "<path stroke-width=\"1\" stroke=\"black\" d=\"M 246 82 162 20\"/>\n",
       "<path stroke-width=\"1\" stroke=\"black\" d=\"M 246 82 122 103\"/>\n",
       "<path stroke-width=\"1\" stroke=\"black\" d=\"M 246 82 197 120\"/>\n",
       "<path stroke-width=\"1\" stroke=\"black\" d=\"M 246 82 171 45\"/>\n",
       "<path stroke-width=\"1\" stroke=\"black\" d=\"M 246 82 344 107\"/>\n",
       "<path stroke-width=\"1\" stroke=\"black\" d=\"M 260 73 246 82\"/>\n",
       "<path stroke-width=\"1\" stroke=\"black\" d=\"M 260 73 153 125\"/>\n",
       "<path stroke-width=\"1\" stroke=\"black\" d=\"M 260 73 344 107\"/>\n",
       "<path stroke-width=\"1\" stroke=\"black\" d=\"M 260 73 171 45\"/>\n",
       "<path stroke-width=\"1\" stroke=\"black\" d=\"M 344 107 260 73\"/>\n",
       "<path stroke-width=\"1\" stroke=\"black\" d=\"M 344 107 246 82\"/>\n",
       "<path stroke-width=\"1\" stroke=\"black\" d=\"M 153 125 264 200\"/>\n",
       "<path stroke-width=\"1\" stroke=\"black\" d=\"M 153 125 20 116\"/>\n",
       "<path stroke-width=\"1\" stroke=\"black\" d=\"M 153 125 28 91\"/>\n",
       "<path stroke-width=\"1\" stroke=\"black\" d=\"M 153 125 197 120\"/>\n",
       "<path stroke-width=\"1\" stroke=\"black\" d=\"M 153 125 260 73\"/>\n",
       "<path stroke-width=\"1\" stroke=\"black\" d=\"M 344 107 353 168\"/>\n",
       "<path stroke-width=\"1\" stroke=\"black\" d=\"M 153 125 246 82\"/>\n",
       "<path stroke-width=\"1\" stroke=\"black\" d=\"M 260 73 282 125\"/>\n",
       "<path stroke-width=\"1\" stroke=\"black\" d=\"M 260 73 348 43\"/>\n",
       "<path stroke-width=\"1\" stroke=\"black\" d=\"M 260 73 273 27\"/>\n",
       "<path stroke-width=\"1\" stroke=\"black\" d=\"M 260 73 313 34\"/>\n",
       "<path stroke-width=\"1\" stroke=\"black\" d=\"M 260 73 366 61\"/>\n",
       "<path stroke-width=\"1\" stroke=\"black\" d=\"M 260 73 228 32\"/>\n",
       "<path stroke-width=\"1\" stroke=\"black\" d=\"M 260 73 131 68\"/>\n",
       "<path stroke-width=\"1\" stroke=\"black\" d=\"M 260 73 251 143\"/>\n",
       "<path stroke-width=\"1\" stroke=\"black\" d=\"M 220 320 211 275\"/>\n",
       "<path stroke-width=\"1\" stroke=\"black\" d=\"M 273 27 246 82\"/>\n",
       "<path stroke-width=\"1\" stroke=\"black\" d=\"M 273 27 260 73\"/>\n",
       "<path stroke-width=\"1\" stroke=\"black\" d=\"M 353 168 388 216\"/>\n",
       "<path stroke-width=\"1\" stroke=\"black\" d=\"M 353 168 331 143\"/>\n",
       "<path stroke-width=\"1\" stroke=\"black\" d=\"M 353 168 420 202\"/>\n",
       "<path stroke-width=\"1\" stroke=\"black\" d=\"M 353 168 344 107\"/>\n",
       "<path stroke-width=\"1\" stroke=\"black\" d=\"M 251 143 264 200\"/>\n",
       "<path stroke-width=\"1\" stroke=\"black\" d=\"M 251 143 353 168\"/>\n",
       "<path stroke-width=\"1\" stroke=\"black\" d=\"M 251 143 304 191\"/>\n",
       "<path stroke-width=\"1\" stroke=\"black\" d=\"M 251 143 340 186\"/>\n",
       "<path stroke-width=\"1\" stroke=\"black\" d=\"M 251 143 282 125\"/>\n",
       "<path stroke-width=\"1\" stroke=\"black\" d=\"M 251 143 197 100\"/>\n",
       "<path stroke-width=\"1\" stroke=\"black\" d=\"M 251 143 282 153\"/>\n",
       "<path stroke-width=\"1\" stroke=\"black\" d=\"M 251 143 122 103\"/>\n",
       "<path stroke-width=\"1\" stroke=\"black\" d=\"M 251 143 197 120\"/>\n",
       "<path stroke-width=\"1\" stroke=\"black\" d=\"M 251 143 260 73\"/>\n",
       "<path stroke-width=\"1\" stroke=\"black\" d=\"M 304 191 264 200\"/>\n",
       "<path stroke-width=\"1\" stroke=\"black\" d=\"M 353 168 282 153\"/>\n",
       "<path stroke-width=\"1\" stroke=\"black\" d=\"M 353 168 340 186\"/>\n",
       "<path stroke-width=\"1\" stroke=\"black\" d=\"M 353 168 304 191\"/>\n",
       "<path stroke-width=\"1\" stroke=\"black\" d=\"M 353 168 251 143\"/>\n",
       "<path stroke-width=\"1\" stroke=\"black\" d=\"M 264 200 251 143\"/>\n",
       "<path stroke-width=\"1\" stroke=\"black\" d=\"M 264 200 304 191\"/>\n",
       "<path stroke-width=\"1\" stroke=\"black\" d=\"M 264 200 255 255\"/>\n",
       "<path stroke-width=\"1\" stroke=\"black\" d=\"M 264 200 211 275\"/>\n",
       "<path stroke-width=\"1\" stroke=\"black\" d=\"M 264 200 264 277\"/>\n",
       "<path stroke-width=\"1\" stroke=\"black\" d=\"M 264 200 340 186\"/>\n",
       "<path stroke-width=\"1\" stroke=\"black\" d=\"M 264 200 282 125\"/>\n",
       "<path stroke-width=\"1\" stroke=\"black\" d=\"M 304 191 353 168\"/>\n",
       "<path stroke-width=\"1\" stroke=\"black\" d=\"M 264 200 188 252\"/>\n",
       "<path stroke-width=\"1\" stroke=\"black\" d=\"M 264 200 335 236\"/>\n",
       "<path stroke-width=\"1\" stroke=\"black\" d=\"M 264 200 282 153\"/>\n",
       "<path stroke-width=\"1\" stroke=\"black\" d=\"M 264 200 388 216\"/>\n",
       "<path stroke-width=\"1\" stroke=\"black\" d=\"M 264 200 331 143\"/>\n",
       "<path stroke-width=\"1\" stroke=\"black\" d=\"M 264 200 420 202\"/>\n",
       "<path stroke-width=\"1\" stroke=\"black\" d=\"M 264 200 153 125\"/>\n",
       "<path stroke-width=\"1\" stroke=\"black\" d=\"M 353 168 264 200\"/>\n",
       "<path stroke-width=\"1\" stroke=\"black\" d=\"M 264 200 122 212\"/>\n",
       "<path stroke-width=\"1\" stroke=\"black\" d=\"M 304 191 251 143\"/>\n",
       "<path stroke-width=\"1\" stroke=\"black\" d=\"M 304 191 340 186\"/>\n",
       "<path stroke-width=\"1\" stroke=\"black\" d=\"M 304 191 335 236\"/>\n",
       "<path stroke-width=\"1\" stroke=\"black\" d=\"M 282 125 246 82\"/>\n",
       "<path stroke-width=\"1\" stroke=\"black\" d=\"M 197 100 251 143\"/>\n",
       "<path stroke-width=\"1\" stroke=\"black\" d=\"M 197 100 246 82\"/>\n",
       "<path stroke-width=\"1\" stroke=\"black\" d=\"M 188 252 264 200\"/>\n",
       "<path stroke-width=\"1\" stroke=\"black\" d=\"M 188 252 255 255\"/>\n",
       "<path stroke-width=\"1\" stroke=\"black\" d=\"M 188 252 211 275\"/>\n",
       "<path stroke-width=\"1\" stroke=\"black\" d=\"M 122 212 264 200\"/>\n",
       "<path stroke-width=\"1\" stroke=\"black\" d=\"M 282 125 260 73\"/>\n",
       "<path stroke-width=\"1\" stroke=\"black\" d=\"M 335 236 264 200\"/>\n",
       "<path stroke-width=\"1\" stroke=\"black\" d=\"M 282 153 264 200\"/>\n",
       "<path stroke-width=\"1\" stroke=\"black\" d=\"M 282 153 353 168\"/>\n",
       "<path stroke-width=\"1\" stroke=\"black\" d=\"M 282 153 251 143\"/>\n",
       "<path stroke-width=\"1\" stroke=\"black\" d=\"M 282 153 304 191\"/>\n",
       "<path stroke-width=\"1\" stroke=\"black\" d=\"M 282 153 246 82\"/>\n",
       "<path stroke-width=\"1\" stroke=\"black\" d=\"M 348 43 260 73\"/>\n",
       "<path stroke-width=\"1\" stroke=\"black\" d=\"M 348 43 246 82\"/>\n",
       "<path stroke-width=\"1\" stroke=\"black\" d=\"M 335 236 304 191\"/>\n",
       "<path stroke-width=\"1\" stroke=\"black\" d=\"M 246 82 153 125\"/>\n",
       "<path stroke-width=\"1\" stroke=\"black\" d=\"M 282 125 344 107\"/>\n",
       "<path stroke-width=\"1\" stroke=\"black\" d=\"M 282 125 264 200\"/>\n",
       "<path stroke-width=\"1\" stroke=\"black\" d=\"M 304 191 282 153\"/>\n",
       "<path stroke-width=\"1\" stroke=\"black\" d=\"M 255 255 264 200\"/>\n",
       "<path stroke-width=\"1\" stroke=\"black\" d=\"M 255 255 264 277\"/>\n",
       "<path stroke-width=\"1\" stroke=\"black\" d=\"M 255 255 188 252\"/>\n",
       "<path stroke-width=\"1\" stroke=\"black\" d=\"M 211 275 264 200\"/>\n",
       "<path stroke-width=\"1\" stroke=\"black\" d=\"M 211 275 264 277\"/>\n",
       "<path stroke-width=\"1\" stroke=\"black\" d=\"M 211 275 188 252\"/>\n",
       "<path stroke-width=\"1\" stroke=\"black\" d=\"M 282 125 251 143\"/>\n",
       "<path stroke-width=\"1\" stroke=\"black\" d=\"M 211 275 220 320\"/>\n",
       "<path stroke-width=\"1\" stroke=\"black\" d=\"M 264 277 255 255\"/>\n",
       "<path stroke-width=\"1\" stroke=\"black\" d=\"M 264 277 211 275\"/>\n",
       "<path stroke-width=\"1\" stroke=\"black\" d=\"M 264 277 220 320\"/>\n",
       "<path stroke-width=\"1\" stroke=\"black\" d=\"M 340 186 264 200\"/>\n",
       "<path stroke-width=\"1\" stroke=\"black\" d=\"M 340 186 353 168\"/>\n",
       "<path stroke-width=\"1\" stroke=\"black\" d=\"M 340 186 251 143\"/>\n",
       "<path stroke-width=\"1\" stroke=\"black\" d=\"M 340 186 304 191\"/>\n",
       "<path stroke-width=\"1\" stroke=\"black\" d=\"M 264 277 264 200\"/>\n",
       "<path stroke-width=\"1\" stroke=\"black\" d=\"M 246 82 260 73\"/>\n",
       "<circle cx=\"264\" cy=\"200\" r=\"7.0\" style=\"fill:rgb(179, 3, 38);stroke:black;stroke-width:1.0\"/>\n",
       "<circle cx=\"353\" cy=\"168\" r=\"7.0\" style=\"fill:rgb(187, 26, 43);stroke:black;stroke-width:3.0\"/>\n",
       "<circle cx=\"251\" cy=\"143\" r=\"7.0\" style=\"fill:rgb(246, 166, 135);stroke:black;stroke-width:1.0\"/>\n",
       "<circle cx=\"304\" cy=\"191\" r=\"7.0\" style=\"fill:rgb(246, 183, 156);stroke:black;stroke-width:1.0\"/>\n",
       "<circle cx=\"255\" cy=\"255\" r=\"7.0\" style=\"fill:rgb(247, 173, 143);stroke:black;stroke-width:1.0\"/>\n",
       "<circle cx=\"211\" cy=\"275\" r=\"7.0\" style=\"fill:rgb(244, 154, 123);stroke:black;stroke-width:1.0\"/>\n",
       "<circle cx=\"264\" cy=\"277\" r=\"7.0\" style=\"fill:rgb(246, 183, 156);stroke:black;stroke-width:1.0\"/>\n",
       "<circle cx=\"340\" cy=\"186\" r=\"7.0\" style=\"fill:rgb(237, 207, 192);stroke:black;stroke-width:1.0\"/>\n",
       "<circle cx=\"282\" cy=\"125\" r=\"7.0\" style=\"fill:rgb(210, 218, 231);stroke:black;stroke-width:1.0\"/>\n",
       "<circle cx=\"197\" cy=\"100\" r=\"7.0\" style=\"fill:rgb(105, 139, 239);stroke:black;stroke-width:1.0\"/>\n",
       "<circle cx=\"188\" cy=\"252\" r=\"7.0\" style=\"fill:rgb(207, 70, 61);stroke:black;stroke-width:3.0\"/>\n",
       "<circle cx=\"122\" cy=\"212\" r=\"7.0\" style=\"fill:rgb(123, 158, 248);stroke:black;stroke-width:1.0\"/>\n",
       "<circle cx=\"335\" cy=\"236\" r=\"7.0\" style=\"fill:rgb(176, 203, 251);stroke:black;stroke-width:1.0\"/>\n",
       "<circle cx=\"282\" cy=\"153\" r=\"7.0\" style=\"fill:rgb(241, 203, 184);stroke:black;stroke-width:1.0\"/>\n",
       "<circle cx=\"348\" cy=\"43\" r=\"7.0\" style=\"fill:rgb(66, 88, 202);stroke:black;stroke-width:1.0\"/>\n",
       "<circle cx=\"273\" cy=\"27\" r=\"7.0\" style=\"fill:rgb(66, 88, 202);stroke:black;stroke-width:1.0\"/>\n",
       "<circle cx=\"220\" cy=\"320\" r=\"7.0\" style=\"fill:rgb(214, 219, 228);stroke:black;stroke-width:1.0\"/>\n",
       "<circle cx=\"388\" cy=\"216\" r=\"7.0\" style=\"fill:rgb(210, 218, 231);stroke:black;stroke-width:1.0\"/>\n",
       "<circle cx=\"313\" cy=\"34\" r=\"7.0\" style=\"fill:rgb(66, 88, 202);stroke:black;stroke-width:1.0\"/>\n",
       "<circle cx=\"331\" cy=\"143\" r=\"7.0\" style=\"fill:rgb(219, 220, 222);stroke:black;stroke-width:1.0\"/>\n",
       "<circle cx=\"366\" cy=\"61\" r=\"7.0\" style=\"fill:rgb(66, 88, 202);stroke:black;stroke-width:1.0\"/>\n",
       "<circle cx=\"420\" cy=\"202\" r=\"7.0\" style=\"fill:rgb(210, 218, 231);stroke:black;stroke-width:1.0\"/>\n",
       "<circle cx=\"228\" cy=\"32\" r=\"7.0\" style=\"fill:rgb(66, 88, 202);stroke:black;stroke-width:1.0\"/>\n",
       "<circle cx=\"131\" cy=\"68\" r=\"7.0\" style=\"fill:rgb(138, 173, 253);stroke:black;stroke-width:1.0\"/>\n",
       "<circle cx=\"20\" cy=\"116\" r=\"7.0\" style=\"fill:rgb(99, 131, 234);stroke:black;stroke-width:1.0\"/>\n",
       "<circle cx=\"28\" cy=\"91\" r=\"7.0\" style=\"fill:rgb(92, 123, 229);stroke:black;stroke-width:1.0\"/>\n",
       "<circle cx=\"162\" cy=\"20\" r=\"7.0\" style=\"fill:rgb(58, 76, 192);stroke:black;stroke-width:1.0\"/>\n",
       "<circle cx=\"122\" cy=\"103\" r=\"7.0\" style=\"fill:rgb(145, 179, 254);stroke:black;stroke-width:1.0\"/>\n",
       "<circle cx=\"197\" cy=\"120\" r=\"7.0\" style=\"fill:rgb(138, 173, 253);stroke:black;stroke-width:1.0\"/>\n",
       "<circle cx=\"171\" cy=\"45\" r=\"7.0\" style=\"fill:rgb(116, 151, 245);stroke:black;stroke-width:1.0\"/>\n",
       "<circle cx=\"344\" cy=\"107\" r=\"7.0\" style=\"fill:rgb(210, 218, 231);stroke:black;stroke-width:1.0\"/>\n",
       "<circle cx=\"153\" cy=\"125\" r=\"7.0\" style=\"fill:rgb(199, 214, 240);stroke:black;stroke-width:1.0\"/>\n",
       "<circle cx=\"260\" cy=\"73\" r=\"7.0\" style=\"fill:rgb(234, 211, 199);stroke:black;stroke-width:1.0\"/>\n",
       "<circle cx=\"246\" cy=\"82\" r=\"7.0\" style=\"fill:rgb(247, 179, 151);stroke:black;stroke-width:1.0\"/>\n",
       "</svg>"
      ],
      "text/plain": [
       "<IPython.core.display.SVG object>"
      ]
     },
     "execution_count": 9,
     "metadata": {},
     "output_type": "execute_result"
    }
   ],
   "source": [
    "SVG(image)"
   ]
  },
  {
   "cell_type": "markdown",
   "id": "7c457397",
   "metadata": {
    "id": "FvCvL2Go5jDG"
   },
   "source": [
    "# Digraphs"
   ]
  },
  {
   "cell_type": "code",
   "execution_count": 10,
   "id": "ec63c792",
   "metadata": {
    "id": "GBEO3G-Z5jDH"
   },
   "outputs": [],
   "source": [
    "graph = painters(metadata=True)\n",
    "adjacency = graph.adjacency\n",
    "names = graph.names\n",
    "position = graph.position"
   ]
  },
  {
   "cell_type": "code",
   "execution_count": 11,
   "id": "69f50bef",
   "metadata": {
    "colab": {
     "base_uri": "https://localhost:8080/"
    },
    "id": "7-RPBENF5jDI",
    "outputId": "bd41e740-e82f-4179-d4b6-145207e66bce"
   },
   "outputs": [
    {
     "name": "stdout",
     "output_type": "stream",
     "text": [
      "  (0, 3)\tTrue\n",
      "  (0, 10)\tTrue\n",
      "  (1, 3)\tTrue\n",
      "  (1, 12)\tTrue\n",
      "  (2, 9)\tTrue\n",
      "  (3, 0)\tTrue\n",
      "  (3, 1)\tTrue\n",
      "  (3, 7)\tTrue\n",
      "  (3, 11)\tTrue\n",
      "  (3, 12)\tTrue\n",
      "  (4, 2)\tTrue\n",
      "  (4, 5)\tTrue\n",
      "  (4, 9)\tTrue\n",
      "  (5, 2)\tTrue\n",
      "  (5, 4)\tTrue\n",
      "  (5, 8)\tTrue\n",
      "  (5, 9)\tTrue\n",
      "  (6, 0)\tTrue\n",
      "  (6, 13)\tTrue\n",
      "  (7, 1)\tTrue\n",
      "  (7, 2)\tTrue\n",
      "  (7, 3)\tTrue\n",
      "  (7, 8)\tTrue\n",
      "  (7, 11)\tTrue\n",
      "  (7, 12)\tTrue\n",
      "  (8, 0)\tTrue\n",
      "  (8, 1)\tTrue\n",
      "  (8, 4)\tTrue\n",
      "  (8, 5)\tTrue\n",
      "  (8, 7)\tTrue\n",
      "  (8, 10)\tTrue\n",
      "  (8, 11)\tTrue\n",
      "  (9, 2)\tTrue\n",
      "  (9, 4)\tTrue\n",
      "  (10, 0)\tTrue\n",
      "  (10, 3)\tTrue\n",
      "  (10, 8)\tTrue\n",
      "  (10, 11)\tTrue\n",
      "  (10, 12)\tTrue\n",
      "  (11, 0)\tTrue\n",
      "  (11, 1)\tTrue\n",
      "  (11, 3)\tTrue\n",
      "  (11, 10)\tTrue\n",
      "  (11, 12)\tTrue\n",
      "  (12, 1)\tTrue\n",
      "  (12, 3)\tTrue\n",
      "  (12, 4)\tTrue\n",
      "  (12, 7)\tTrue\n",
      "  (13, 6)\tTrue\n",
      "  (13, 8)\tTrue\n"
     ]
    }
   ],
   "source": [
    "M=adjacency\n",
    "print(M)"
   ]
  },
  {
   "cell_type": "markdown",
   "id": "72f1738f",
   "metadata": {
    "id": "8TIE98di5jDJ"
   },
   "source": [
    "# Ranking"
   ]
  },
  {
   "cell_type": "code",
   "execution_count": 12,
   "id": "943aef4a",
   "metadata": {
    "colab": {
     "base_uri": "https://localhost:8080/",
     "height": 361
    },
    "id": "027MaUZY5jDJ",
    "outputId": "ae9475e5-cb96-49b0-a818-a8c410b44db3"
   },
   "outputs": [
    {
     "data": {
      "image/svg+xml": [
       "<svg xmlns=\"http://www.w3.org/2000/svg\" width=\"566.0\" height=\"340\">\n",
       "<defs><marker id=\"arrow\" markerWidth=\"10\" markerHeight=\"10\" refX=\"9\" refY=\"3\" orient=\"auto\">\n",
       "<path d=\"M0,0 L0,6 L9,3 z\" fill=\"gray\"/></marker></defs>\n",
       "<path stroke-width=\"1\" stroke=\"gray\" d=\"M 247 48 77 64\" marker-end=\"url(#arrow)\"/>\n",
       "<path stroke-width=\"1\" stroke=\"gray\" d=\"M 205 140 148 222\" marker-end=\"url(#arrow)\"/>\n",
       "<path stroke-width=\"1\" stroke=\"gray\" d=\"M 205 140 208 251\" marker-end=\"url(#arrow)\"/>\n",
       "<path stroke-width=\"1\" stroke=\"gray\" d=\"M 205 140 61 162\" marker-end=\"url(#arrow)\"/>\n",
       "<path stroke-width=\"1\" stroke=\"gray\" d=\"M 205 140 167 61\" marker-end=\"url(#arrow)\"/>\n",
       "<path stroke-width=\"1\" stroke=\"gray\" d=\"M 205 140 137 95\" marker-end=\"url(#arrow)\"/>\n",
       "<path stroke-width=\"1\" stroke=\"gray\" d=\"M 151 320 79 271\" marker-end=\"url(#arrow)\"/>\n",
       "<path stroke-width=\"1\" stroke=\"gray\" d=\"M 151 320 144 233\" marker-end=\"url(#arrow)\"/>\n",
       "<path stroke-width=\"1\" stroke=\"gray\" d=\"M 164 55 241 48\" marker-end=\"url(#arrow)\"/>\n",
       "<path stroke-width=\"1\" stroke=\"gray\" d=\"M 164 55 77 64\" marker-end=\"url(#arrow)\"/>\n",
       "<path stroke-width=\"1\" stroke=\"gray\" d=\"M 164 55 202 134\" marker-end=\"url(#arrow)\"/>\n",
       "<path stroke-width=\"1\" stroke=\"gray\" d=\"M 164 55 136 87\" marker-end=\"url(#arrow)\"/>\n",
       "<path stroke-width=\"1\" stroke=\"gray\" d=\"M 164 55 97 126\" marker-end=\"url(#arrow)\"/>\n",
       "<path stroke-width=\"1\" stroke=\"gray\" d=\"M 132 92 241 50\" marker-end=\"url(#arrow)\"/>\n",
       "<path stroke-width=\"1\" stroke=\"gray\" d=\"M 132 92 26 108\" marker-end=\"url(#arrow)\"/>\n",
       "<path stroke-width=\"1\" stroke=\"gray\" d=\"M 132 92 77 66\" marker-end=\"url(#arrow)\"/>\n",
       "<path stroke-width=\"1\" stroke=\"gray\" d=\"M 132 92 160 60\" marker-end=\"url(#arrow)\"/>\n",
       "<path stroke-width=\"1\" stroke=\"gray\" d=\"M 132 92 97 127\" marker-end=\"url(#arrow)\"/>\n",
       "<path stroke-width=\"1\" stroke=\"gray\" d=\"M 93 131 26 110\" marker-end=\"url(#arrow)\"/>\n",
       "<path stroke-width=\"1\" stroke=\"gray\" d=\"M 93 131 73 70\" marker-end=\"url(#arrow)\"/>\n",
       "<path stroke-width=\"1\" stroke=\"gray\" d=\"M 93 131 141 221\" marker-end=\"url(#arrow)\"/>\n",
       "<path stroke-width=\"1\" stroke=\"gray\" d=\"M 93 131 60 158\" marker-end=\"url(#arrow)\"/>\n",
       "<path stroke-width=\"1\" stroke=\"gray\" d=\"M 205 140 26 109\" marker-end=\"url(#arrow)\"/>\n",
       "<path stroke-width=\"1\" stroke=\"gray\" d=\"M 205 140 245 54\" marker-end=\"url(#arrow)\"/>\n",
       "<path stroke-width=\"1\" stroke=\"gray\" d=\"M 55 162 88 135\" marker-end=\"url(#arrow)\"/>\n",
       "<path stroke-width=\"1\" stroke=\"gray\" d=\"M 55 162 127 96\" marker-end=\"url(#arrow)\"/>\n",
       "<path stroke-width=\"1\" stroke=\"gray\" d=\"M 247 48 170 55\" marker-end=\"url(#arrow)\"/>\n",
       "<path stroke-width=\"1\" stroke=\"gray\" d=\"M 20 108 66 68\" marker-end=\"url(#arrow)\"/>\n",
       "<path stroke-width=\"1\" stroke=\"gray\" d=\"M 20 108 87 129\" marker-end=\"url(#arrow)\"/>\n",
       "<path stroke-width=\"1\" stroke=\"gray\" d=\"M 74 268 146 317\" marker-end=\"url(#arrow)\"/>\n",
       "<path stroke-width=\"1\" stroke=\"gray\" d=\"M 71 64 241 48\" marker-end=\"url(#arrow)\"/>\n",
       "<path stroke-width=\"1\" stroke=\"gray\" d=\"M 71 64 25 104\" marker-end=\"url(#arrow)\"/>\n",
       "<path stroke-width=\"1\" stroke=\"gray\" d=\"M 71 64 56 156\" marker-end=\"url(#arrow)\"/>\n",
       "<path stroke-width=\"1\" stroke=\"gray\" d=\"M 71 64 126 90\" marker-end=\"url(#arrow)\"/>\n",
       "<path stroke-width=\"1\" stroke=\"gray\" d=\"M 71 64 91 125\" marker-end=\"url(#arrow)\"/>\n",
       "<path stroke-width=\"1\" stroke=\"gray\" d=\"M 144 227 80 265\" marker-end=\"url(#arrow)\"/>\n",
       "<path stroke-width=\"1\" stroke=\"gray\" d=\"M 404 94 419 26\" marker-end=\"url(#arrow)\"/>\n",
       "<path stroke-width=\"1\" stroke=\"gray\" d=\"M 144 227 202 255\" marker-end=\"url(#arrow)\"/>\n",
       "<path stroke-width=\"1\" stroke=\"gray\" d=\"M 208 257 80 268\" marker-end=\"url(#arrow)\"/>\n",
       "<path stroke-width=\"1\" stroke=\"gray\" d=\"M 208 257 150 229\" marker-end=\"url(#arrow)\"/>\n",
       "<path stroke-width=\"1\" stroke=\"gray\" d=\"M 208 257 205 146\" marker-end=\"url(#arrow)\"/>\n",
       "<path stroke-width=\"1\" stroke=\"gray\" d=\"M 208 257 155 315\" marker-end=\"url(#arrow)\"/>\n",
       "<path stroke-width=\"1\" stroke=\"gray\" d=\"M 420 20 253 47\" marker-end=\"url(#arrow)\"/>\n",
       "<path stroke-width=\"1\" stroke=\"gray\" d=\"M 420 20 405 88\" marker-end=\"url(#arrow)\"/>\n",
       "<path stroke-width=\"1\" stroke=\"gray\" d=\"M 55 162 23 113\" marker-end=\"url(#arrow)\"/>\n",
       "<path stroke-width=\"1\" stroke=\"gray\" d=\"M 55 162 73 262\" marker-end=\"url(#arrow)\"/>\n",
       "<path stroke-width=\"1\" stroke=\"gray\" d=\"M 55 162 70 70\" marker-end=\"url(#arrow)\"/>\n",
       "<path stroke-width=\"1\" stroke=\"gray\" d=\"M 55 162 199 140\" marker-end=\"url(#arrow)\"/>\n",
       "<path stroke-width=\"1\" stroke=\"gray\" d=\"M 144 227 151 314\" marker-end=\"url(#arrow)\"/>\n",
       "<path stroke-width=\"1\" stroke=\"gray\" d=\"M 404 94 211 139\" marker-end=\"url(#arrow)\"/>\n",
       "<circle cx=\"247\" cy=\"48\" r=\"7.0\" style=\"fill:rgb(231, 214, 204);stroke:black;stroke-width:1.0\"/>\n",
       "<circle cx=\"20\" cy=\"108\" r=\"7.0\" style=\"fill:rgb(243, 198, 176);stroke:black;stroke-width:1.0\"/>\n",
       "<circle cx=\"74\" cy=\"268\" r=\"7.0\" style=\"fill:rgb(217, 88, 71);stroke:black;stroke-width:1.0\"/>\n",
       "<circle cx=\"71\" cy=\"64\" r=\"7.0\" style=\"fill:rgb(231, 117, 92);stroke:black;stroke-width:1.0\"/>\n",
       "<circle cx=\"144\" cy=\"227\" r=\"7.0\" style=\"fill:rgb(231, 117, 92);stroke:black;stroke-width:1.0\"/>\n",
       "<circle cx=\"208\" cy=\"257\" r=\"7.0\" style=\"fill:rgb(202, 216, 238);stroke:black;stroke-width:1.0\"/>\n",
       "<circle cx=\"420\" cy=\"20\" r=\"7.0\" style=\"fill:rgb(58, 76, 192);stroke:black;stroke-width:1.0\"/>\n",
       "<circle cx=\"55\" cy=\"162\" r=\"7.0\" style=\"fill:rgb(217, 220, 224);stroke:black;stroke-width:1.0\"/>\n",
       "<circle cx=\"205\" cy=\"140\" r=\"7.0\" style=\"fill:rgb(193, 212, 244);stroke:black;stroke-width:1.0\"/>\n",
       "<circle cx=\"151\" cy=\"320\" r=\"7.0\" style=\"fill:rgb(179, 3, 38);stroke:black;stroke-width:1.0\"/>\n",
       "<circle cx=\"164\" cy=\"55\" r=\"7.0\" style=\"fill:rgb(210, 218, 231);stroke:black;stroke-width:1.0\"/>\n",
       "<circle cx=\"132\" cy=\"92\" r=\"7.0\" style=\"fill:rgb(214, 219, 228);stroke:black;stroke-width:1.0\"/>\n",
       "<circle cx=\"93\" cy=\"131\" r=\"7.0\" style=\"fill:rgb(246, 169, 138);stroke:black;stroke-width:1.0\"/>\n",
       "<circle cx=\"404\" cy=\"94\" r=\"7.0\" style=\"fill:rgb(58, 76, 192);stroke:black;stroke-width:1.0\"/>\n",
       "<text x=\"264\" y=\"55\" font-size=\"12\">Pablo Picasso</text><text x=\"37\" y=\"115\" font-size=\"12\">Claude Monet</text><text x=\"91\" y=\"275\" font-size=\"12\">Michel Angelo</text><text x=\"88\" y=\"71\" font-size=\"12\">Edouard Manet</text><text x=\"161\" y=\"234\" font-size=\"12\">Peter Paul Rubens</text><text x=\"225\" y=\"264\" font-size=\"12\">Rembrandt</text><text x=\"437\" y=\"27\" font-size=\"12\">Gustav Klimt</text><text x=\"72\" y=\"169\" font-size=\"12\">Edgar Degas</text><text x=\"222\" y=\"147\" font-size=\"12\">Vincent van Gogh</text><text x=\"168\" y=\"327\" font-size=\"12\">Leonardo da Vinci</text><text x=\"181\" y=\"62\" font-size=\"12\">Henri Matisse</text><text x=\"149\" y=\"99\" font-size=\"12\">Paul Cezanne</text><text x=\"110\" y=\"138\" font-size=\"12\">Pierre-Auguste Renoir</text><text x=\"421\" y=\"101\" font-size=\"12\">Egon Schiele</text></svg>"
      ],
      "text/plain": [
       "<IPython.core.display.SVG object>"
      ]
     },
     "execution_count": 12,
     "metadata": {},
     "output_type": "execute_result"
    }
   ],
   "source": [
    "pageRank = PageRank()\n",
    "scores = pageRank.fit_transform(adjacency)\n",
    "\n",
    "image = svg_digraph(adjacency, position, scores=np.log(scores), names=names)\n",
    "SVG(image)"
   ]
  },
  {
   "cell_type": "code",
   "execution_count": 13,
   "id": "936fbcf1",
   "metadata": {
    "colab": {
     "base_uri": "https://localhost:8080/"
    },
    "id": "0hLb99GCl4cT",
    "outputId": "7ce05689-ea09-464c-a1a3-2094dda6fa78"
   },
   "outputs": [
    {
     "data": {
      "text/plain": [
       "array([0.06039417, 0.06946039, 0.12498877, 0.10953832, 0.11001955,\n",
       "       0.04712885, 0.01864369, 0.05308844, 0.04487283, 0.15675844,\n",
       "       0.05081224, 0.05126681, 0.0843838 , 0.01864369])"
      ]
     },
     "execution_count": 13,
     "metadata": {},
     "output_type": "execute_result"
    }
   ],
   "source": [
    "scores"
   ]
  },
  {
   "cell_type": "code",
   "execution_count": 14,
   "id": "af0cbe9d",
   "metadata": {
    "colab": {
     "base_uri": "https://localhost:8080/"
    },
    "id": "BoYXJY2igYO2",
    "outputId": "b3dd6872-e868-4622-8162-24876636497e"
   },
   "outputs": [
    {
     "data": {
      "text/plain": [
       "array([[0.05895998],\n",
       "       [0.0671977 ],\n",
       "       [0.12954046],\n",
       "       [0.10584829],\n",
       "       [0.11297236],\n",
       "       [0.04813788],\n",
       "       [0.01863354],\n",
       "       [0.051436  ],\n",
       "       [0.04459214],\n",
       "       [0.16306181],\n",
       "       [0.04966197],\n",
       "       [0.04985256],\n",
       "       [0.08147176],\n",
       "       [0.01863354]])"
      ]
     },
     "execution_count": 14,
     "metadata": {},
     "output_type": "execute_result"
    }
   ],
   "source": [
    "pagerank(get_markov_mat(M).T)"
   ]
  },
  {
   "cell_type": "markdown",
   "id": "224d4287",
   "metadata": {
    "id": "lt1mFiAm5jDK"
   },
   "source": [
    "# Ranking with personalization"
   ]
  },
  {
   "cell_type": "code",
   "execution_count": 15,
   "id": "5c9420dd",
   "metadata": {
    "id": "bLqlM1BW5jDL"
   },
   "outputs": [],
   "source": [
    "cezanne = 11\n",
    "seeds = {cezanne:1}"
   ]
  },
  {
   "cell_type": "code",
   "execution_count": 16,
   "id": "54cc26bf",
   "metadata": {
    "colab": {
     "base_uri": "https://localhost:8080/",
     "height": 361
    },
    "id": "cXfGlNXI5jDM",
    "outputId": "14414c67-37e0-4c58-e830-e7c9d841cf86"
   },
   "outputs": [
    {
     "data": {
      "image/svg+xml": [
       "<svg xmlns=\"http://www.w3.org/2000/svg\" width=\"566.0\" height=\"340\">\n",
       "<defs><marker id=\"arrow\" markerWidth=\"10\" markerHeight=\"10\" refX=\"9\" refY=\"3\" orient=\"auto\">\n",
       "<path d=\"M0,0 L0,6 L9,3 z\" fill=\"gray\"/></marker></defs>\n",
       "<path stroke-width=\"1\" stroke=\"gray\" d=\"M 247 48 77 64\" marker-end=\"url(#arrow)\"/>\n",
       "<path stroke-width=\"1\" stroke=\"gray\" d=\"M 205 140 148 222\" marker-end=\"url(#arrow)\"/>\n",
       "<path stroke-width=\"1\" stroke=\"gray\" d=\"M 205 140 208 251\" marker-end=\"url(#arrow)\"/>\n",
       "<path stroke-width=\"1\" stroke=\"gray\" d=\"M 205 140 61 162\" marker-end=\"url(#arrow)\"/>\n",
       "<path stroke-width=\"1\" stroke=\"gray\" d=\"M 205 140 167 61\" marker-end=\"url(#arrow)\"/>\n",
       "<path stroke-width=\"1\" stroke=\"gray\" d=\"M 205 140 137 95\" marker-end=\"url(#arrow)\"/>\n",
       "<path stroke-width=\"1\" stroke=\"gray\" d=\"M 151 320 79 271\" marker-end=\"url(#arrow)\"/>\n",
       "<path stroke-width=\"1\" stroke=\"gray\" d=\"M 151 320 144 233\" marker-end=\"url(#arrow)\"/>\n",
       "<path stroke-width=\"1\" stroke=\"gray\" d=\"M 164 55 241 48\" marker-end=\"url(#arrow)\"/>\n",
       "<path stroke-width=\"1\" stroke=\"gray\" d=\"M 164 55 77 64\" marker-end=\"url(#arrow)\"/>\n",
       "<path stroke-width=\"1\" stroke=\"gray\" d=\"M 164 55 202 134\" marker-end=\"url(#arrow)\"/>\n",
       "<path stroke-width=\"1\" stroke=\"gray\" d=\"M 164 55 136 87\" marker-end=\"url(#arrow)\"/>\n",
       "<path stroke-width=\"1\" stroke=\"gray\" d=\"M 164 55 97 126\" marker-end=\"url(#arrow)\"/>\n",
       "<path stroke-width=\"1\" stroke=\"gray\" d=\"M 132 92 241 50\" marker-end=\"url(#arrow)\"/>\n",
       "<path stroke-width=\"1\" stroke=\"gray\" d=\"M 132 92 26 108\" marker-end=\"url(#arrow)\"/>\n",
       "<path stroke-width=\"1\" stroke=\"gray\" d=\"M 132 92 77 66\" marker-end=\"url(#arrow)\"/>\n",
       "<path stroke-width=\"1\" stroke=\"gray\" d=\"M 132 92 160 60\" marker-end=\"url(#arrow)\"/>\n",
       "<path stroke-width=\"1\" stroke=\"gray\" d=\"M 132 92 97 127\" marker-end=\"url(#arrow)\"/>\n",
       "<path stroke-width=\"1\" stroke=\"gray\" d=\"M 93 131 26 110\" marker-end=\"url(#arrow)\"/>\n",
       "<path stroke-width=\"1\" stroke=\"gray\" d=\"M 93 131 73 70\" marker-end=\"url(#arrow)\"/>\n",
       "<path stroke-width=\"1\" stroke=\"gray\" d=\"M 93 131 141 221\" marker-end=\"url(#arrow)\"/>\n",
       "<path stroke-width=\"1\" stroke=\"gray\" d=\"M 93 131 60 158\" marker-end=\"url(#arrow)\"/>\n",
       "<path stroke-width=\"1\" stroke=\"gray\" d=\"M 205 140 26 109\" marker-end=\"url(#arrow)\"/>\n",
       "<path stroke-width=\"1\" stroke=\"gray\" d=\"M 205 140 245 54\" marker-end=\"url(#arrow)\"/>\n",
       "<path stroke-width=\"1\" stroke=\"gray\" d=\"M 55 162 88 135\" marker-end=\"url(#arrow)\"/>\n",
       "<path stroke-width=\"1\" stroke=\"gray\" d=\"M 55 162 127 96\" marker-end=\"url(#arrow)\"/>\n",
       "<path stroke-width=\"1\" stroke=\"gray\" d=\"M 247 48 170 55\" marker-end=\"url(#arrow)\"/>\n",
       "<path stroke-width=\"1\" stroke=\"gray\" d=\"M 20 108 66 68\" marker-end=\"url(#arrow)\"/>\n",
       "<path stroke-width=\"1\" stroke=\"gray\" d=\"M 20 108 87 129\" marker-end=\"url(#arrow)\"/>\n",
       "<path stroke-width=\"1\" stroke=\"gray\" d=\"M 74 268 146 317\" marker-end=\"url(#arrow)\"/>\n",
       "<path stroke-width=\"1\" stroke=\"gray\" d=\"M 71 64 241 48\" marker-end=\"url(#arrow)\"/>\n",
       "<path stroke-width=\"1\" stroke=\"gray\" d=\"M 71 64 25 104\" marker-end=\"url(#arrow)\"/>\n",
       "<path stroke-width=\"1\" stroke=\"gray\" d=\"M 71 64 56 156\" marker-end=\"url(#arrow)\"/>\n",
       "<path stroke-width=\"1\" stroke=\"gray\" d=\"M 71 64 126 90\" marker-end=\"url(#arrow)\"/>\n",
       "<path stroke-width=\"1\" stroke=\"gray\" d=\"M 71 64 91 125\" marker-end=\"url(#arrow)\"/>\n",
       "<path stroke-width=\"1\" stroke=\"gray\" d=\"M 144 227 80 265\" marker-end=\"url(#arrow)\"/>\n",
       "<path stroke-width=\"1\" stroke=\"gray\" d=\"M 404 94 419 26\" marker-end=\"url(#arrow)\"/>\n",
       "<path stroke-width=\"1\" stroke=\"gray\" d=\"M 144 227 202 255\" marker-end=\"url(#arrow)\"/>\n",
       "<path stroke-width=\"1\" stroke=\"gray\" d=\"M 208 257 80 268\" marker-end=\"url(#arrow)\"/>\n",
       "<path stroke-width=\"1\" stroke=\"gray\" d=\"M 208 257 150 229\" marker-end=\"url(#arrow)\"/>\n",
       "<path stroke-width=\"1\" stroke=\"gray\" d=\"M 208 257 205 146\" marker-end=\"url(#arrow)\"/>\n",
       "<path stroke-width=\"1\" stroke=\"gray\" d=\"M 208 257 155 315\" marker-end=\"url(#arrow)\"/>\n",
       "<path stroke-width=\"1\" stroke=\"gray\" d=\"M 420 20 253 47\" marker-end=\"url(#arrow)\"/>\n",
       "<path stroke-width=\"1\" stroke=\"gray\" d=\"M 420 20 405 88\" marker-end=\"url(#arrow)\"/>\n",
       "<path stroke-width=\"1\" stroke=\"gray\" d=\"M 55 162 23 113\" marker-end=\"url(#arrow)\"/>\n",
       "<path stroke-width=\"1\" stroke=\"gray\" d=\"M 55 162 73 262\" marker-end=\"url(#arrow)\"/>\n",
       "<path stroke-width=\"1\" stroke=\"gray\" d=\"M 55 162 70 70\" marker-end=\"url(#arrow)\"/>\n",
       "<path stroke-width=\"1\" stroke=\"gray\" d=\"M 55 162 199 140\" marker-end=\"url(#arrow)\"/>\n",
       "<path stroke-width=\"1\" stroke=\"gray\" d=\"M 144 227 151 314\" marker-end=\"url(#arrow)\"/>\n",
       "<path stroke-width=\"1\" stroke=\"gray\" d=\"M 404 94 211 139\" marker-end=\"url(#arrow)\"/>\n",
       "<circle cx=\"247\" cy=\"48\" r=\"7.0\" style=\"fill:rgb(207, 70, 61);stroke:black;stroke-width:1.0\"/>\n",
       "<circle cx=\"20\" cy=\"108\" r=\"7.0\" style=\"fill:rgb(201, 59, 55);stroke:black;stroke-width:1.0\"/>\n",
       "<circle cx=\"74\" cy=\"268\" r=\"7.0\" style=\"fill:rgb(217, 88, 71);stroke:black;stroke-width:1.0\"/>\n",
       "<circle cx=\"71\" cy=\"64\" r=\"7.0\" style=\"fill:rgb(190, 35, 45);stroke:black;stroke-width:1.0\"/>\n",
       "<circle cx=\"144\" cy=\"227\" r=\"7.0\" style=\"fill:rgb(214, 82, 67);stroke:black;stroke-width:1.0\"/>\n",
       "<circle cx=\"208\" cy=\"257\" r=\"7.0\" style=\"fill:rgb(236, 128, 100);stroke:black;stroke-width:1.0\"/>\n",
       "<circle cx=\"420\" cy=\"20\" r=\"7.0\" style=\"fill:rgb(58, 76, 192);stroke:black;stroke-width:1.0\"/>\n",
       "<circle cx=\"55\" cy=\"162\" r=\"7.0\" style=\"fill:rgb(217, 88, 71);stroke:black;stroke-width:1.0\"/>\n",
       "<circle cx=\"205\" cy=\"140\" r=\"7.0\" style=\"fill:rgb(234, 123, 96);stroke:black;stroke-width:1.0\"/>\n",
       "<circle cx=\"151\" cy=\"320\" r=\"7.0\" style=\"fill:rgb(211, 77, 64);stroke:black;stroke-width:1.0\"/>\n",
       "<circle cx=\"164\" cy=\"55\" r=\"7.0\" style=\"fill:rgb(211, 77, 64);stroke:black;stroke-width:1.0\"/>\n",
       "<circle cx=\"132\" cy=\"92\" r=\"7.0\" style=\"fill:rgb(179, 3, 38);stroke:black;stroke-width:3.0\"/>\n",
       "<circle cx=\"93\" cy=\"131\" r=\"7.0\" style=\"fill:rgb(194, 45, 49);stroke:black;stroke-width:1.0\"/>\n",
       "<circle cx=\"404\" cy=\"94\" r=\"7.0\" style=\"fill:rgb(58, 76, 192);stroke:black;stroke-width:1.0\"/>\n",
       "<text x=\"264\" y=\"55\" font-size=\"12\">Pablo Picasso</text><text x=\"37\" y=\"115\" font-size=\"12\">Claude Monet</text><text x=\"91\" y=\"275\" font-size=\"12\">Michel Angelo</text><text x=\"88\" y=\"71\" font-size=\"12\">Edouard Manet</text><text x=\"161\" y=\"234\" font-size=\"12\">Peter Paul Rubens</text><text x=\"225\" y=\"264\" font-size=\"12\">Rembrandt</text><text x=\"437\" y=\"27\" font-size=\"12\">Gustav Klimt</text><text x=\"72\" y=\"169\" font-size=\"12\">Edgar Degas</text><text x=\"222\" y=\"147\" font-size=\"12\">Vincent van Gogh</text><text x=\"168\" y=\"327\" font-size=\"12\">Leonardo da Vinci</text><text x=\"181\" y=\"62\" font-size=\"12\">Henri Matisse</text><text x=\"149\" y=\"99\" font-size=\"12\">Paul Cezanne</text><text x=\"110\" y=\"138\" font-size=\"12\">Pierre-Auguste Renoir</text><text x=\"421\" y=\"101\" font-size=\"12\">Egon Schiele</text></svg>"
      ],
      "text/plain": [
       "<IPython.core.display.SVG object>"
      ]
     },
     "execution_count": 16,
     "metadata": {},
     "output_type": "execute_result"
    }
   ],
   "source": [
    "scores = pageRank.fit_transform(adjacency, seeds)\n",
    "\n",
    "image = svg_digraph(adjacency, position, names, scores=np.log(scores + 1e-6), seeds=seeds)\n",
    "\n",
    "SVG(image)"
   ]
  },
  {
   "cell_type": "markdown",
   "id": "f51c2007",
   "metadata": {
    "id": "MENAUOnG5jDN"
   },
   "source": [
    "# Bigraphs"
   ]
  },
  {
   "cell_type": "code",
   "execution_count": 17,
   "id": "485437c0",
   "metadata": {
    "id": "Z3ILNoTS5jDO"
   },
   "outputs": [],
   "source": [
    "graph = movie_actor(metadata=True)\n",
    "biadjacency = graph.biadjacency\n",
    "names_row = graph.names_row\n",
    "names_col = graph.names_col"
   ]
  },
  {
   "cell_type": "markdown",
   "id": "4fcdb525",
   "metadata": {
    "id": "h1B-iaXf5jDO"
   },
   "source": [
    "# Ranking"
   ]
  },
  {
   "cell_type": "code",
   "execution_count": 18,
   "id": "a144d552",
   "metadata": {
    "id": "VA8Qjqt95jDP"
   },
   "outputs": [],
   "source": [
    "bipagerank = BiPageRank()\n",
    "\n",
    "drive = 3\n",
    "aviator = 9\n",
    "seeds_row={drive: 1, aviator: 1}"
   ]
  },
  {
   "cell_type": "code",
   "execution_count": 19,
   "id": "7ef7ee4a",
   "metadata": {
    "id": "CjKwV7w95jDQ"
   },
   "outputs": [],
   "source": [
    "bipagerank.fit(biadjacency, seeds_row)\n",
    "scores_row = bipagerank.scores_row_\n",
    "scores_col = bipagerank.scores_col_"
   ]
  },
  {
   "cell_type": "code",
   "execution_count": 20,
   "id": "f74aa6d3",
   "metadata": {
    "colab": {
     "base_uri": "https://localhost:8080/",
     "height": 361
    },
    "id": "6vktdKhi5jDR",
    "outputId": "a1e6ac6d-4d74-40f8-8ba7-1d0c39e0cd86"
   },
   "outputs": [
    {
     "data": {
      "image/svg+xml": [
       "<svg xmlns=\"http://www.w3.org/2000/svg\" width=\"728.0\" height=\"340\">\n",
       "<path stroke-width=\"1\" stroke=\"black\" d=\"M 188 89 588 140\"/>\n",
       "<path stroke-width=\"1\" stroke=\"black\" d=\"M 188 310 588 120\"/>\n",
       "<path stroke-width=\"1\" stroke=\"black\" d=\"M 188 310 588 100\"/>\n",
       "<path stroke-width=\"1\" stroke=\"black\" d=\"M 188 310 588 240\"/>\n",
       "<path stroke-width=\"1\" stroke=\"black\" d=\"M 188 150 588 140\"/>\n",
       "<path stroke-width=\"1\" stroke=\"black\" d=\"M 188 150 588 120\"/>\n",
       "<path stroke-width=\"1\" stroke=\"black\" d=\"M 188 150 588 100\"/>\n",
       "<path stroke-width=\"1\" stroke=\"black\" d=\"M 188 290 588 300\"/>\n",
       "<path stroke-width=\"1\" stroke=\"black\" d=\"M 188 290 588 280\"/>\n",
       "<path stroke-width=\"1\" stroke=\"black\" d=\"M 188 290 588 260\"/>\n",
       "<path stroke-width=\"1\" stroke=\"black\" d=\"M 188 270 588 320\"/>\n",
       "<path stroke-width=\"1\" stroke=\"black\" d=\"M 188 270 588 300\"/>\n",
       "<path stroke-width=\"1\" stroke=\"black\" d=\"M 188 270 588 260\"/>\n",
       "<path stroke-width=\"1\" stroke=\"black\" d=\"M 188 249 588 59\"/>\n",
       "<path stroke-width=\"1\" stroke=\"black\" d=\"M 188 249 588 300\"/>\n",
       "<path stroke-width=\"1\" stroke=\"black\" d=\"M 188 249 588 240\"/>\n",
       "<path stroke-width=\"1\" stroke=\"black\" d=\"M 188 130 588 100\"/>\n",
       "<path stroke-width=\"1\" stroke=\"black\" d=\"M 188 130 588 79\"/>\n",
       "<path stroke-width=\"1\" stroke=\"black\" d=\"M 188 310 588 280\"/>\n",
       "<path stroke-width=\"1\" stroke=\"black\" d=\"M 188 310 588 300\"/>\n",
       "<path stroke-width=\"1\" stroke=\"black\" d=\"M 188 170 588 160\"/>\n",
       "<path stroke-width=\"1\" stroke=\"black\" d=\"M 188 170 588 220\"/>\n",
       "<path stroke-width=\"1\" stroke=\"black\" d=\"M 188 89 588 59\"/>\n",
       "<path stroke-width=\"1\" stroke=\"black\" d=\"M 188 89 588 40\"/>\n",
       "<path stroke-width=\"1\" stroke=\"black\" d=\"M 188 69 588 59\"/>\n",
       "<path stroke-width=\"1\" stroke=\"black\" d=\"M 188 69 588 40\"/>\n",
       "<path stroke-width=\"1\" stroke=\"black\" d=\"M 188 69 588 220\"/>\n",
       "<path stroke-width=\"1\" stroke=\"black\" d=\"M 188 230 588 220\"/>\n",
       "<path stroke-width=\"1\" stroke=\"black\" d=\"M 188 230 588 200\"/>\n",
       "<path stroke-width=\"1\" stroke=\"black\" d=\"M 188 230 588 320\"/>\n",
       "<path stroke-width=\"1\" stroke=\"black\" d=\"M 188 110 588 120\"/>\n",
       "<path stroke-width=\"1\" stroke=\"black\" d=\"M 188 230 588 160\"/>\n",
       "<path stroke-width=\"1\" stroke=\"black\" d=\"M 188 49 588 20\"/>\n",
       "<path stroke-width=\"1\" stroke=\"black\" d=\"M 188 30 588 140\"/>\n",
       "<path stroke-width=\"1\" stroke=\"black\" d=\"M 188 30 588 20\"/>\n",
       "<path stroke-width=\"1\" stroke=\"black\" d=\"M 188 210 588 200\"/>\n",
       "<path stroke-width=\"1\" stroke=\"black\" d=\"M 188 210 588 180\"/>\n",
       "<path stroke-width=\"1\" stroke=\"black\" d=\"M 188 190 588 200\"/>\n",
       "<path stroke-width=\"1\" stroke=\"black\" d=\"M 188 190 588 180\"/>\n",
       "<path stroke-width=\"1\" stroke=\"black\" d=\"M 188 190 588 160\"/>\n",
       "<path stroke-width=\"1\" stroke=\"black\" d=\"M 188 49 588 200\"/>\n",
       "<path stroke-width=\"1\" stroke=\"black\" d=\"M 188 110 588 79\"/>\n",
       "<circle cx=\"188\" cy=\"89\" r=\"7.0\" style=\"fill:rgb(242, 200, 179);stroke:black;stroke-width:1.0\"/>\n",
       "<circle cx=\"188\" cy=\"69\" r=\"7.0\" style=\"fill:rgb(197, 213, 242);stroke:black;stroke-width:1.0\"/>\n",
       "<circle cx=\"188\" cy=\"230\" r=\"7.0\" style=\"fill:rgb(244, 195, 171);stroke:black;stroke-width:1.0\"/>\n",
       "<circle cx=\"188\" cy=\"49\" r=\"7.0\" style=\"fill:rgb(182, 13, 40);stroke:black;stroke-width:3.0\"/>\n",
       "<circle cx=\"188\" cy=\"30\" r=\"7.0\" style=\"fill:rgb(243, 150, 120);stroke:black;stroke-width:1.0\"/>\n",
       "<circle cx=\"188\" cy=\"210\" r=\"7.0\" style=\"fill:rgb(237, 207, 192);stroke:black;stroke-width:1.0\"/>\n",
       "<circle cx=\"188\" cy=\"190\" r=\"7.0\" style=\"fill:rgb(245, 193, 168);stroke:black;stroke-width:1.0\"/>\n",
       "<circle cx=\"188\" cy=\"170\" r=\"7.0\" style=\"fill:rgb(166, 195, 253);stroke:black;stroke-width:1.0\"/>\n",
       "<circle cx=\"188\" cy=\"310\" r=\"7.0\" style=\"fill:rgb(246, 166, 135);stroke:black;stroke-width:1.0\"/>\n",
       "<circle cx=\"188\" cy=\"150\" r=\"7.0\" style=\"fill:rgb(179, 3, 38);stroke:black;stroke-width:3.0\"/>\n",
       "<circle cx=\"188\" cy=\"290\" r=\"7.0\" style=\"fill:rgb(166, 195, 253);stroke:black;stroke-width:1.0\"/>\n",
       "<circle cx=\"188\" cy=\"270\" r=\"7.0\" style=\"fill:rgb(163, 193, 254);stroke:black;stroke-width:1.0\"/>\n",
       "<circle cx=\"188\" cy=\"249\" r=\"7.0\" style=\"fill:rgb(187, 209, 247);stroke:black;stroke-width:1.0\"/>\n",
       "<circle cx=\"188\" cy=\"130\" r=\"7.0\" style=\"fill:rgb(234, 211, 199);stroke:black;stroke-width:1.0\"/>\n",
       "<circle cx=\"188\" cy=\"110\" r=\"7.0\" style=\"fill:rgb(234, 211, 199);stroke:black;stroke-width:1.0\"/>\n",
       "<circle cx=\"588\" cy=\"140\" r=\"7.0\" style=\"fill:rgb(214, 82, 67);stroke:black;stroke-width:1.0\"/>\n",
       "<circle cx=\"588\" cy=\"59\" r=\"7.0\" style=\"fill:rgb(183, 207, 249);stroke:black;stroke-width:1.0\"/>\n",
       "<circle cx=\"588\" cy=\"40\" r=\"7.0\" style=\"fill:rgb(163, 193, 254);stroke:black;stroke-width:1.0\"/>\n",
       "<circle cx=\"588\" cy=\"220\" r=\"7.0\" style=\"fill:rgb(170, 198, 253);stroke:black;stroke-width:1.0\"/>\n",
       "<circle cx=\"588\" cy=\"200\" r=\"7.0\" style=\"fill:rgb(194, 45, 49);stroke:black;stroke-width:1.0\"/>\n",
       "<circle cx=\"588\" cy=\"320\" r=\"7.0\" style=\"fill:rgb(134, 169, 252);stroke:black;stroke-width:1.0\"/>\n",
       "<circle cx=\"588\" cy=\"20\" r=\"7.0\" style=\"fill:rgb(194, 45, 49);stroke:black;stroke-width:1.0\"/>\n",
       "<circle cx=\"588\" cy=\"180\" r=\"7.0\" style=\"fill:rgb(222, 219, 218);stroke:black;stroke-width:1.0\"/>\n",
       "<circle cx=\"588\" cy=\"160\" r=\"7.0\" style=\"fill:rgb(210, 218, 231);stroke:black;stroke-width:1.0\"/>\n",
       "<circle cx=\"588\" cy=\"300\" r=\"7.0\" style=\"fill:rgb(187, 209, 247);stroke:black;stroke-width:1.0\"/>\n",
       "<circle cx=\"588\" cy=\"280\" r=\"7.0\" style=\"fill:rgb(152, 185, 254);stroke:black;stroke-width:1.0\"/>\n",
       "<circle cx=\"588\" cy=\"120\" r=\"7.0\" style=\"fill:rgb(230, 114, 89);stroke:black;stroke-width:1.0\"/>\n",
       "<circle cx=\"588\" cy=\"100\" r=\"7.0\" style=\"fill:rgb(230, 114, 89);stroke:black;stroke-width:1.0\"/>\n",
       "<circle cx=\"588\" cy=\"260\" r=\"7.0\" style=\"fill:rgb(58, 76, 192);stroke:black;stroke-width:1.0\"/>\n",
       "<circle cx=\"588\" cy=\"79\" r=\"7.0\" style=\"fill:rgb(224, 218, 215);stroke:black;stroke-width:1.0\"/>\n",
       "<circle cx=\"588\" cy=\"240\" r=\"7.0\" style=\"fill:rgb(155, 187, 254);stroke:black;stroke-width:1.0\"/>\n",
       "<text text-anchor=\"end\" x=\"178\" y=\"89\" font-size=\"12\">Inception</text><text text-anchor=\"end\" x=\"178\" y=\"69\" font-size=\"12\">The Dark Knight Rises</text><text text-anchor=\"end\" x=\"178\" y=\"230\" font-size=\"12\">The Big Short</text><text text-anchor=\"end\" x=\"178\" y=\"49\" font-size=\"12\">Drive</text><text text-anchor=\"end\" x=\"178\" y=\"30\" font-size=\"12\">The Great Gatsby</text><text text-anchor=\"end\" x=\"178\" y=\"210\" font-size=\"12\">La La Land</text><text text-anchor=\"end\" x=\"178\" y=\"190\" font-size=\"12\">Crazy Stupid Love</text><text text-anchor=\"end\" x=\"178\" y=\"170\" font-size=\"12\">Vice</text><text text-anchor=\"end\" x=\"178\" y=\"310\" font-size=\"12\">The Grand Budapest Hotel</text><text text-anchor=\"end\" x=\"178\" y=\"150\" font-size=\"12\">Aviator</text><text text-anchor=\"end\" x=\"178\" y=\"290\" font-size=\"12\">007 Spectre</text><text text-anchor=\"end\" x=\"178\" y=\"270\" font-size=\"12\">Inglourious Basterds</text><text text-anchor=\"end\" x=\"178\" y=\"249\" font-size=\"12\">Midnight In Paris</text><text text-anchor=\"end\" x=\"178\" y=\"130\" font-size=\"12\">Murder on the Orient Express</text><text text-anchor=\"end\" x=\"178\" y=\"110\" font-size=\"12\">Fantastic Beasts 2</text><text x=\"598\" y=\"140\" font-size=\"12\">Leonardo DiCaprio</text><text x=\"598\" y=\"59\" font-size=\"12\">Marion Cotillard</text><text x=\"598\" y=\"40\" font-size=\"12\">Joseph Gordon Lewitt</text><text x=\"598\" y=\"220\" font-size=\"12\">Christian Bale</text><text x=\"598\" y=\"200\" font-size=\"12\">Ryan Gosling</text><text x=\"598\" y=\"320\" font-size=\"12\">Brad Pitt</text><text x=\"598\" y=\"20\" font-size=\"12\">Carey Mulligan</text><text x=\"598\" y=\"180\" font-size=\"12\">Emma Stone</text><text x=\"598\" y=\"160\" font-size=\"12\">Steve Carell</text><text x=\"598\" y=\"300\" font-size=\"12\">Lea Seydoux</text><text x=\"598\" y=\"280\" font-size=\"12\">Ralph Fiennes</text><text x=\"598\" y=\"120\" font-size=\"12\">Jude Law</text><text x=\"598\" y=\"100\" font-size=\"12\">Willem Dafoe</text><text x=\"598\" y=\"260\" font-size=\"12\">Christophe Waltz</text><text x=\"598\" y=\"79\" font-size=\"12\">Johnny Depp</text><text x=\"598\" y=\"240\" font-size=\"12\">Owen Wilson</text></svg>"
      ],
      "text/plain": [
       "<IPython.core.display.SVG object>"
      ]
     },
     "execution_count": 20,
     "metadata": {},
     "output_type": "execute_result"
    }
   ],
   "source": [
    "image = svg_bigraph(biadjacency, names_row, names_col,\n",
    "                    scores_row=np.log(scores_row), scores_col=np.log(scores_col), seeds_row=seeds_row)\n",
    "SVG(image)"
   ]
  },
  {
   "cell_type": "markdown",
   "id": "ca984faa",
   "metadata": {
    "id": "p41BZYAABLvu"
   },
   "source": [
    "**Creating a directed graph and implementing PageRank**"
   ]
  },
  {
   "cell_type": "markdown",
   "id": "398307a9",
   "metadata": {
    "id": "31hOogZBjwg2"
   },
   "source": [
    "![PRExample1.png](data:image/png;base64,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)"
   ]
  },
  {
   "cell_type": "code",
   "execution_count": 21,
   "id": "92298e0e",
   "metadata": {
    "colab": {
     "base_uri": "https://localhost:8080/",
     "height": 425
    },
    "id": "W2OniPJg5jDS",
    "outputId": "83917ecd-4899-43af-91dd-cf0bf0c064b1"
   },
   "outputs": [
    {
     "data": {
      "image/png": "[encoded data removed]",
      "text/plain": [
       "<Figure size 1008x432 with 1 Axes>"
      ]
     },
     "metadata": {},
     "output_type": "display_data"
    },
    {
     "name": "stdout",
     "output_type": "stream",
     "text": [
      "\n",
      "('y', {'a': {0: {'weight': 0.5}}, 'y': {0: {'weight': 0.5, 'label': 'Self loop'}}})\n",
      "('a', {'y': {0: {'weight': 0.5}}, 'm': {0: {'weight': 0.5}}})\n",
      "('m', {'a': {0: {'weight': 1}}})\n"
     ]
    }
   ],
   "source": [
    "import networkx as nx\n",
    "import numpy as np\n",
    "import matplotlib.pyplot as plt\n",
    "import pylab\n",
    "\n",
    "plt.figure(figsize=(14,6))\n",
    "G = nx.MultiDiGraph()\n",
    "\n",
    "G.add_edges_from([('y','a')], weight=0.5)\n",
    "G.add_edges_from([('y','y')], weight=0.5, label=\"Self loop\")\n",
    "G.add_edges_from([('a','y')], weight=0.5)\n",
    "G.add_edges_from([('a','m')], weight=0.5)\n",
    "G.add_edges_from([('m','a')], weight=1)\n",
    "\n",
    "\n",
    "\n",
    "val_map = {'y': 1.0,\n",
    "                   'a': 0.75,\n",
    "                        'm': 0.5}\n",
    "\n",
    "values = [val_map.get(node, 0.45) for node in G.nodes()]\n",
    "edge_labels=dict([((u,v,),d['weight'])\n",
    "                 for u,v,d in G.edges(data=True)])\n",
    "red_edges = [('y','a'),('a','y'),('y','y')]\n",
    "edge_colors = ['black' if not edge in red_edges else 'red' for edge in G.edges()]\n",
    "\n",
    "pos=nx.circular_layout(G)\n",
    "nx.draw_networkx_edge_labels(G,pos,edge_labels=edge_labels,label_pos=0.25, font_size=15)\n",
    "nx.draw_networkx(G,pos,node_color=values,node_size=1000,edgelist=[],font_size=20,linewidths=15)\n",
    "nx.draw_networkx_edges(G, pos, connectionstyle='arc3,rad=0.2',alpha=0.8,arrowstyle='->,head_length=0.6, head_width=0.15',width=2,edge_color=edge_colors,arrowsize=70)\n",
    "pylab.show()\n",
    "print()\n",
    "for node in G.adjacency():\n",
    "  print(node)"
   ]
  },
  {
   "cell_type": "code",
   "execution_count": 22,
   "id": "45ff0c89",
   "metadata": {
    "id": "lh05uVcb_iUK"
   },
   "outputs": [],
   "source": [
    "# Order: y a m\n",
    "S = np.array([[0.5, 0.5, 0],\n",
    "              [0.5, 0, 1],\n",
    "              [0, 0.5, 0]])"
   ]
  },
  {
   "cell_type": "code",
   "execution_count": 23,
   "id": "c83ed265",
   "metadata": {
    "colab": {
     "base_uri": "https://localhost:8080/"
    },
    "id": "PErfKcLj_k2J",
    "outputId": "1de92dd2-e3a1-49ef-cf7a-cec464440d90"
   },
   "outputs": [
    {
     "data": {
      "text/plain": [
       "array([[0.38171773],\n",
       "       [0.39879458],\n",
       "       [0.21948769]])"
      ]
     },
     "execution_count": 23,
     "metadata": {},
     "output_type": "execute_result"
    }
   ],
   "source": [
    "pagerank(S)"
   ]
  },
  {
   "cell_type": "code",
   "execution_count": null,
   "id": "1976e535",
   "metadata": {},
   "outputs": [],
   "source": []
  },
  {
   "cell_type": "code",
   "execution_count": null,
   "id": "e3d6cb21",
   "metadata": {},
   "outputs": [],
   "source": []
  }
 ],
 "metadata": {
  "kernelspec": {
   "display_name": "Python 3",
   "language": "python",
   "name": "python3"
  },
  "language_info": {
   "codemirror_mode": {
    "name": "ipython",
    "version": 3
   },
   "file_extension": ".py",
   "mimetype": "text/x-python",
   "name": "python",
   "nbconvert_exporter": "python",
   "pygments_lexer": "ipython3",
   "version": "3.8.8"
  }
 },
 "nbformat": 4,
 "nbformat_minor": 5
}
